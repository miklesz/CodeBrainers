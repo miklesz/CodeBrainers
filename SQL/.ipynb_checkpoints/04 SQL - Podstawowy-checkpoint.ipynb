{
 "cells": [
  {
   "cell_type": "markdown",
   "metadata": {},
   "source": [
    "![](data:image/jpeg;base64,/9j/4AAQSkZJRgABAQAAAQABAAD/2wCEAAkGBwgQEhUQBxESFhEXERASEBAPFhIVGBgdFRUXFhUWFxQYHTQgJBolGxgXITIhJSkrLi4vFyAzODMsNygtLisBCgoKDg0OGxAQGyslICUrLTcwNzc3LTEwMi0rNysvLS03KzgtLS0tLS0tLzYtNS03NSsrLS01LS0tLTcrLSsrNv/AABEIAOEA4QMBIgACEQEDEQH/xAAbAAEAAwEBAQEAAAAAAAAAAAAABAUGAwEHAv/EAEAQAAICAQMDAgIHBQQJBQAAAAABAgMEBRESBhMhMUFRYRQVIlJxgaEHMjORsSNCYsFyc5KTorLR4fAWNENVg//EABoBAQADAQEBAAAAAAAAAAAAAAABAgUEAwb/xAAmEQEAAgICAQIGAwAAAAAAAAAAAQIDEQQFIRJREzEyQVJxFCIz/9oADAMBAAIRAxEAPwD7gAAAAAAAAAAAAAAAAAAAAAAAAAAAAAAAAAAAAAAAAAAAAAAAAAAAAAAAAAAAAAAAAAAAAAAAAAAAAAAAAAAAAAAAAAAAAAAAAAAAAAAAAAAAAAAAAAAAAAAAAAAAAAAAAAAAAAAAAAAAAAAAAAAAAAAAAAAAAAAAAAAAAAAAAAAA3BF1G6UK5Sj67ePz8FMmSMdJtP2TEbnSRuj3dGXx8XMuTlW9/PvJo7fVWf8AH/iZk17PLaPVXFMw6JwVidTaGi3Q5IzNOBmy34P0bi95P1R+/qrP+K/2mTHZZpjcYZR8Gv5Q0fJDdGZrwMyTag/R7P7T+R0+qtQ+K/2mI7LNMbjDKfg0/OGickEzMRwc1uUYPzHbf7T91uv0PVbn0P7fLb4S8p/mRHbWjzfHMR7n8eJ+m0TLTgi4GZC2O8fD918CUa2PJXJWLVnxLnmJidSAAugAAAAAAAAAAAAAAAAAAAAACBrP8KX5f1RPIGtfwZfl/VHNzP8AC/6lfH9cftx6e/hv/S/yRaMy+FqVlS4wSflvySPr2/7sf1Mnidpx8eCtLT5iHRl497WmYhaab6T/ANbMmGao1a2G/GMfMnL39zt9e3/dj+p64e341aREyrbjZN/JZ4H71n+sf9ETDN06tbFycYr7UuT9fgkdPr2/7sf1GHtuNWupktxskz8lpifxbvxh/wAiJF9UJpxsW6aM/Xq1sZSkoreTTfr7LY6fXt/3Y/qVp2vF9E1tPv8AYnjZd7iHLTZSqv4ezbg/8jTGUxbHO+Mpermn4NWX6a/qx2iPlE+DlRq0b9gAGy5gAAAAAAAAAAAAAAAAAAAAAIOsp9qW3y/qiceSin4fp8DyzY/iY5p7wms6nbGVwlJpQ9X6I7vEf9yUHJesU/P5eC8lpdK5OjdScZJefC3XwK+jDvbhF18eMt5WfE+VnqrY/wCt43toTyfV5hVA0ktHxW23v5bfq/cfUmJ/i/myJ6Pkb8aWjmUZs9Sb9DR/UmJ/i/mz9V6TixalHfdeVuxHR8jfnRPMprwovocvRyhy+5v5/D09SM014l6rwyylhZPmvt+XPfu/5/8AnxLOzScab5Wb7vbfZkx1Vsu/RGphWOT6fq8qPTU+7Db7yNaRMXTset71Lz8X5ZLN3rOHbjY5rf5zLlz5YyW3AADSeAAAAAAAAAAAAAAAAAAAAAAAAAeHoAAAAAAAAAAAAAAAAAAAAAAAAAABgeSkl5l6erf/AHM3k9fdJVy4W5+Py32+zNSW/wAOUfBS9TK/VM/6qrnKGJTVC/PdbcZWc/4dPJeUmvtfz+CNbgaDpFEO3h41MYbeihHz+La3b/EDrpmraflQ7ml3V2w3250yjNfg2n4fyZNMwujMCrLhmaO3jyTavqoSVd0dnspw/dT32e6Xt+DO/VHVFWE66qap35Vu6oxaduUtvWUm/EYL3kwNADD5HVXVGLHva/pkVjLzZZiXq6da+9Kvit0vfZ+DXYufi21Rvosi6ZQ7kbE1x47b8t/hsBKIGpavhY8qoZkmpXWxppSjKW82m0nsvHhPy/BmaOq9dzG59K4MbMZSajk5drpVmz2brgotuO6/eKXX9fuvytOx9Tx54+VDUaZyqk1OMouMlzqtSSlHfZPwmt/KA+npgz/U/U1eG66seqd+Va32MWppSlt6ylJ+IwXvJlTf1R1Rirva9pkVjrzZZiXq6da95Sr4rdL1bTA12dm41EJW5s4writ5zm9kl6bt/Ao1170l/wDYYv8AvYL9WQv2iZdN2jZV2HJShPF51zj7ptNNE7F0/ppUQlk1YSXag5SnChf3Vu22gL3FyqLYqeJOM4SW8Z1yjKL+aknsdjBfsyjUrc96Tv8AV7yYfQ9t+DfBq517/wB3lt6eCz1rq62GQ8PQcWWVkxip3RjNVV1J7bc7WmlJp7qO27A1QM11F1T9GnXjYNEsjNsjyhjVtLZL1nZY1tGG/jdorL+ruoMTazqfTlXjNpSvxLlf292lvZDinx+aA0+va5p2DV39Wnwr5Rjy2lLzL0SjFb/H+RPqshJKVb3i0mmvdNbpme6t1XTq8J5OZTDJo5Y+0PsSjLu2QjCS5Lb+8n+BM6h1/CwKO/mctt4wrqrXKc5S/drhH3bAtwYW3rXX6k7tQ0e+GKlynZG2E7Ix+9KhR38Ly1vujV1arhSoWXGyPYdXe7r8Ljtycn+QE8GIo6q6lyl3endNjLG/+O3Lu7MrF96NfFtRfs36lt011PHLlOjLpnj5dSTuxrWm0nulOE14lBteqA0IMxr/AFXZRcsTR8aeVl8O5KmEowjCPs7LWmo7+y2f6kfP6m1t3yxdDw67baqqbMt23duEHYm41RlxfKXh+dkv12DXgr9Cz8jIqVmZRZRZvKMqbdm04vZtNesX7PxuiwAAAAGABhMCyOLreTHL8LNox7ceT9JSoj251r/FsuW34m7KnqTp/Bz6+1np+HzrsrfGyuS9JwmvKZQw0LrepcMXVapwX7ssnGTml85Rl5fzYGuuyaYuMbZRUpPjBSaTk9t9op+r29kY7TeH17l/S9u59Bxvou/r2+X9tx//AE47/kS9I6NcLo5mvZM8vLj/AAp2RUK6t/XtUrwn8yb1L0zXluFtFs6MqrfsZVWzlHf1jKL8Sg/H2WBeW8OL7u3HZ8uW223vvv7bHyjA7/8A6by/oPLhvn/R/Xftd6Xp8uPL9TSX9K9S5K7OvapyxmtrK8WiNM7F7xlYpbpP3SXnc1uLg41dUaKIRVUYKEa0vCjtttt8NgI/T7xfo1P1ft2ezV2uO223FbenyM313VVPL0uMEncs/nFL1VcK5Stf+juo/oeU9H61iNx6Vz+zjuTksXIqV8YN+X25tpqO/niWOgdKyoueZquRPJzJR4d6xKEYRfrCqpeIrx592BmsvE1WzXMj6Bk10WLCo7MraVdyrbXcUN5LbaxefxRd2aP1hs+7qmPx2fJSwobbe+/9p6bFj1L01Xluu7HtnRlVcuxlVbNx5fvRlF+JQfjeL+BUX9L9T5K7WuapF478WQxKFTOxe8ZWOT2T99gKjUdNjidOZFVGTDIgqrp1XVJKLU7eW0dpNbJt+5a4X7NOjp1QlZhw5OuEnJTuT3cU291P5suNb6bpuwLNOweNVcqVTXsm1FJr233f8ynr6f65ilGGr0qKSil9Dr8JeF7/AAA4aNj2aZqdenYVs54d2PbbXTbJzdEq354Sfng0/T4skfsvhyqyr7PNlmpZrnL3fCxwit/gktkT+muk5Y1s8vU8ieTmTioSvsSiowXnhXWntGO/lkvpHQp4NNlVk1Pnk5F/JJrbuzc+O2/tv6gUnS3D621T6T/H3xO3v69pV+OPy323+expeobcSOLfLUduyqLe7y8pxcWmtvn6be5XdSdKxyrIZODdPHzK1xryakpbx9eFkH4lH5Mq59GaxlOK6s1Dv0xkpLGopjRCbXlOxpttf4QMnj3WT6Wrdzbauqhu/hDUFGK/JJL8jXdYRctQ0iEv3e/lWbfOFS4v8uT/AJn5r6GvWlfVnehy73d7qjLj/wC57/Hjvv6fZ9S61fQbL8rDyYzSWNK9yg02592EYrZ7+Ntt/cC4vgnCSl5TjJP815Pkt/dfS8VW2oqShY152rjluMvH3VFefkn6ep9dlFtNfFNFD0306sbBjg5rjbFK6Nj47RkrJyk1xb+EtgK7G0fq3hH6NquP2+EeHHChtx2XHb+09NjhgaDqEdRpyNW1Gi2+ui2PYrpjTOVc/VvaxtxU9nvsdMfpXqPFj2en9SUcdeK6suhXyqX3Y2ck2l7KXwLLpvpeOLOeRmXTyMuxKNuTbsnsvKhCC8Rhv7ICr/Z3Dlfql9vmyWpXUufvwo+zXH8Evb5sla90/qcMiWf0vbCORKEIZGPem6r1Xvw3kvMJpNpSX/Xef0zoM8N5LnYp9/NvylsmuKse/F+fLXxIWq6D1E7p26JqTqhZtypvqjcoNJR3qba29PT4gWPSeuRzqO663XZGyym+mT3cLKpcZx39/Pv8y5KnpjQ6sGhUVSlN8p2W2z25WTm+U5y292y2AAAAAAAAAAAAAAAAAAAAAAAAAAAAAAAAAAAAAAAAAAAAAAAAAAAAAAAAAAAAAAAAAAAAAAAAAAAAAAAAAAAAAAAAAAAAAAAAAAAAAAAAAAAAAAAAAAAAAAAAAAAAAAAAAAAAAAAAAAAAAAAAAAAAAAAAAAAAAAAAAAAAAAAAAAAAAAAAAAAAAAAAAAAAAAAAAAAAAAAAAAAD/9k=)"
   ]
  },
  {
   "cell_type": "markdown",
   "metadata": {},
   "source": [
    "# SQL - Podstawowy\n",
    "\n",
    "_Mikołaj Leszczuk_\n",
    "\n",
    "* Warunki rozbudowane – operacja `SELECT.. WHERE`\n",
    "* Klauzula `TOP`\n",
    "* Aliasy – zastępcze nazwy kolumn lub tabeli\n",
    "* Funkcje grupujące\n",
    "* Klauzula `DISTINCT`\n",
    "* Funkcje daty\n",
    "* Klauzula `GROUP BY`\n",
    "* Zadania utrwalające 1"
   ]
  },
  {
   "cell_type": "markdown",
   "metadata": {},
   "source": [
    "## Warunki rozbudowane – operacja `SELECT.. WHERE`\n",
    "\n",
    "W kursie początkującym poznaliśmy już zapytanie `SELECT` oraz jego rozszerzenie o klauzulę `WHERE`. Tutaj, postaramy się rozszerzyć naszą wiedzę o inne operatory porównania używane w tej klauzuli."
   ]
  },
  {
   "cell_type": "markdown",
   "metadata": {},
   "source": [
    "### Operatory `AND`, `OR`, `NOT`\n",
    "\n",
    "Dzięki nim możemy stworzyć złożone warunki logiczne. Są to odpowiedniki matematycznej koniunkcji, alternatywy i negacji.\n",
    "\n",
    "* `AND`\t– oba warunki muszą być spełnione\n",
    "* `OR`\t– wystarczy, że jeden będzie spełniony\n",
    "* `NOT`\t– negacja warunku\n",
    "\n",
    "```sqlite\n",
    "SELECT kolumna,kolumna,.. FROM tabela WHERE NOT kolumna=wartość AND kolumna=wartość OR kolumna=wartość;\n",
    "```\n",
    "\n",
    "Możliwe jest również używanie nawiasów w warunkach. Operatory w nawiasach są wykonywane jako pierwsze a następnie ich wynik jest przekazywany poza nawias."
   ]
  },
  {
   "cell_type": "markdown",
   "metadata": {},
   "source": [
    "#### Przykład\n",
    "\n",
    "**Wybieramy dane użytkownika który ma na imię `Katarzyna` i mieszka w mieście `Lublin`**\n",
    "\n",
    "Tabela **`Customer`**:"
   ]
  },
  {
   "cell_type": "markdown",
   "metadata": {},
   "source": [
    "[02 SQL - Reset.ipynb](02%20SQL%20-%20Reset.ipynb)"
   ]
  },
  {
   "cell_type": "code",
   "execution_count": null,
   "metadata": {},
   "outputs": [],
   "source": [
    "%LOAD CodeBrainers.db rw"
   ]
  },
  {
   "cell_type": "code",
   "execution_count": null,
   "metadata": {},
   "outputs": [],
   "source": [
    "SELECT * FROM customer;"
   ]
  },
  {
   "cell_type": "markdown",
   "metadata": {},
   "source": [
    "Zapytanie i wynik zapytania:"
   ]
  },
  {
   "cell_type": "code",
   "execution_count": null,
   "metadata": {},
   "outputs": [],
   "source": [
    "SELECT id,name,city,date FROM customer WHERE name='Katarzyna' AND city='Lublin';"
   ]
  },
  {
   "cell_type": "markdown",
   "metadata": {},
   "source": [
    "#### Ćwiczenie\n",
    "\n",
    "**Wybierz wszystkie dane produktów z tabeli `Product`, których cena jest większa od `25` lub liczba sztuk jest nie mniejsza niż `5`**\n",
    "\n",
    "Tabela **`Product`**:"
   ]
  },
  {
   "cell_type": "code",
   "execution_count": null,
   "metadata": {},
   "outputs": [],
   "source": [
    "SELECT * FROM product;"
   ]
  },
  {
   "cell_type": "markdown",
   "metadata": {},
   "source": [
    "Wpisz zapytanie do bazy!"
   ]
  },
  {
   "cell_type": "markdown",
   "metadata": {},
   "source": [
    "---"
   ]
  },
  {
   "cell_type": "markdown",
   "metadata": {},
   "source": [
    "Zapytanie i wynik zapytania:"
   ]
  },
  {
   "cell_type": "code",
   "execution_count": null,
   "metadata": {},
   "outputs": [],
   "source": [
    "SELECT id,name,price,amount,date FROM product WHERE price>25 OR amount>=5;"
   ]
  },
  {
   "cell_type": "markdown",
   "metadata": {},
   "source": [
    "### Operator `LIKE`\n",
    "\n",
    "Umożliwia przeszukiwanie danych tekstowych na podstawie wzorca podanego w klauzuli warunkowej. Może być to zarówno dokładny ciąg poszukiwanych znaków jak i wyrażenie stworzone przy pomocy następujących symboli:\n",
    "\n",
    "* Symbol `%` zastępuje dowolny ciąg znaków\n",
    "* Symbol `_` zastępuje dowolny pojedynczy znak\n",
    "\n",
    "```sqlite\n",
    "SELECT kolumna,kolumna,.. FROM tabela WHERE kolumna LIKE 'wyrażenie';\n",
    "```"
   ]
  },
  {
   "cell_type": "markdown",
   "metadata": {},
   "source": [
    "#### Przykład\n",
    "\n",
    "**Wybieramy dane użytkownika których imię rozpoczyna się literą `M`**\n",
    "\n",
    "Tabela **`Customer`**:"
   ]
  },
  {
   "cell_type": "code",
   "execution_count": null,
   "metadata": {},
   "outputs": [],
   "source": [
    "SELECT * FROM customer;"
   ]
  },
  {
   "cell_type": "markdown",
   "metadata": {},
   "source": [
    "Zapytanie: i wynik zapytania:"
   ]
  },
  {
   "cell_type": "code",
   "execution_count": null,
   "metadata": {},
   "outputs": [],
   "source": [
    "SELECT id,name,city,date FROM customer WHERE name LIKE 'M%';"
   ]
  },
  {
   "cell_type": "markdown",
   "metadata": {},
   "source": [
    "#### Ćwiczenie\n",
    "\n",
    "**Wybierz id, nazwę i cenę produktów z tabeli Product które zawierają w nazwie literę “`a`”**\n",
    "\n",
    "Tabela **`Product`**:"
   ]
  },
  {
   "cell_type": "code",
   "execution_count": null,
   "metadata": {},
   "outputs": [],
   "source": [
    "SELECT * FROM product;"
   ]
  },
  {
   "cell_type": "markdown",
   "metadata": {},
   "source": [
    "Wpisz zapytanie do bazy!"
   ]
  },
  {
   "cell_type": "markdown",
   "metadata": {},
   "source": [
    "---"
   ]
  },
  {
   "cell_type": "markdown",
   "metadata": {},
   "source": [
    "Zapytanie i wynik zapytania:"
   ]
  },
  {
   "cell_type": "code",
   "execution_count": null,
   "metadata": {},
   "outputs": [],
   "source": [
    "SELECT id,name,price FROM product WHERE name LIKE '%a%';"
   ]
  },
  {
   "cell_type": "markdown",
   "metadata": {},
   "source": [
    "### Operator `IN`\n",
    "\n",
    "Operator `IN` sprawdza czy wartości z kolumny znajdują się w zbiorze podanym zaraz po klauzuli `IN`.\n",
    "\n",
    "```sqlite\n",
    "SELECT kolumna,kolumna,.. FROM tabela WHERE kolumna IN (element zb.,element zb.,..);\n",
    "```"
   ]
  },
  {
   "cell_type": "markdown",
   "metadata": {},
   "source": [
    "#### Przykład\n",
    "\n",
    "**Wybieramy nazwy i ceny produktów których cena wynosi `60` lub `10` lub `25`**\n",
    "\n",
    "Tabela **`Product`**:"
   ]
  },
  {
   "cell_type": "code",
   "execution_count": null,
   "metadata": {},
   "outputs": [],
   "source": [
    "SELECT * FROM product;"
   ]
  },
  {
   "cell_type": "markdown",
   "metadata": {},
   "source": [
    "Zapytanie i wynik zapytania:"
   ]
  },
  {
   "cell_type": "code",
   "execution_count": null,
   "metadata": {},
   "outputs": [],
   "source": [
    "SELECT name,price FROM product WHERE price IN (60,10,25);"
   ]
  },
  {
   "cell_type": "markdown",
   "metadata": {},
   "source": [
    "#### Ćwiczenie\n",
    "\n",
    "**Wybierz nazwę, cenę i liczbę produktów z tabeli `Product`, których liczba to `3`, `4`, `5` lub `6`**\n",
    "\n",
    "Tabela **`Product`**:"
   ]
  },
  {
   "cell_type": "code",
   "execution_count": null,
   "metadata": {},
   "outputs": [],
   "source": [
    "SELECT * FROM product;"
   ]
  },
  {
   "cell_type": "markdown",
   "metadata": {},
   "source": [
    "Wpisz zapytanie do bazy!"
   ]
  },
  {
   "cell_type": "markdown",
   "metadata": {},
   "source": [
    "---"
   ]
  },
  {
   "cell_type": "markdown",
   "metadata": {},
   "source": [
    "Zapytanie i wynik zapytania:"
   ]
  },
  {
   "cell_type": "code",
   "execution_count": null,
   "metadata": {},
   "outputs": [],
   "source": [
    "SELECT name,price,amount FROM product WHERE amount IN (3,4,5,6);"
   ]
  },
  {
   "cell_type": "markdown",
   "metadata": {},
   "source": [
    "### Operator `BETWEEN`\n",
    "\n",
    "Operator `BETWEEN` sprawdza czy wartości z kolumny znajdują się w przedziale podanym zaraz po klauzuli `BETWEEN`.\n",
    "\n",
    "```sqlite\n",
    "SELECT kolumna,kolumna,.. FROM tabela WHERE kolumna BETWEEN wartość1 AND wartość2;\n",
    "```"
   ]
  },
  {
   "cell_type": "markdown",
   "metadata": {},
   "source": [
    "#### Przykład\n",
    "\n",
    "**Wybieramy nazwę i cenę produktów których cena należy do przedziału `40` do `60`**\n",
    "\n",
    "Tabela **`Product`**:"
   ]
  },
  {
   "cell_type": "code",
   "execution_count": null,
   "metadata": {},
   "outputs": [],
   "source": [
    "SELECT * FROM product;"
   ]
  },
  {
   "cell_type": "markdown",
   "metadata": {},
   "source": [
    "Zapytanie i wynik zapytania:"
   ]
  },
  {
   "cell_type": "code",
   "execution_count": null,
   "metadata": {},
   "outputs": [],
   "source": [
    "SELECT name,price FROM product WHERE price BETWEEN 40 AND 60;"
   ]
  },
  {
   "cell_type": "markdown",
   "metadata": {},
   "source": [
    "### Operator `IS NULL`\n",
    "\n",
    "Umożliwia wybranie rekordów ze względu na nie-przypisaną wartość w jednej z jego kolumn.\n",
    "\n",
    "```sqlite\n",
    "SELECT kolumna,kolumna,.. FROM tabela WHERE kolumna IS NULL;\n",
    "```"
   ]
  },
  {
   "cell_type": "markdown",
   "metadata": {},
   "source": [
    "## Klauzula `TOP`\n",
    "\n",
    "Pozwala ona ograniczyć ilość wybieranych wierszy do podanej liczby. Umieszcza się ją bezpośrednio po instrukcji `SELECT`.\n",
    "\n",
    "```sql\n",
    "SELECT TOP liczba kolumna,kolumna,.. FROM tabela;\n",
    "```\n",
    "\n",
    "Możliwe jest również wybieranie części rekordów na podstawie procentowej.\n",
    "\n",
    "Pomiędzy instrukcjami `TOP` i `PERCENT` musimy wstawić liczbę określającą ile procent wyników chcemy otrzymać oraz użyć sortowania `ORDER BY`.\n",
    "\n",
    "```sql\n",
    "SELECT TOP liczba PERCENT kolumna,kolumna,.. FROM tabela ORDER BY kolumna;\n",
    "```"
   ]
  },
  {
   "cell_type": "markdown",
   "metadata": {},
   "source": [
    "### Odpowiednik klauzuli `TOP` w MySQL i SQLite to klauzula `LIMIT`\n",
    "\n",
    "Podobnie jak `TOP`, klauzula `LIMIT` zwróci nam podaną ilość oczekiwanych wyników, jednak w tym wypadku możemy podać również, od którego wiersza ma się to zwracanie rozpoczynać.\n",
    "\n",
    "```sqlite\n",
    "SELECT kolumna FROM tabela LIMIT od którego wiersza,liczba wierszy;\n",
    "```"
   ]
  },
  {
   "cell_type": "markdown",
   "metadata": {},
   "source": [
    "#### Przykład\n",
    "\n",
    "**Wybieramy id, nazwę i cenę jednego produktu którego cena jest wyższa niż `20`**\n",
    "\n",
    "Tabela **`Product`**:"
   ]
  },
  {
   "cell_type": "code",
   "execution_count": null,
   "metadata": {},
   "outputs": [],
   "source": [
    "SELECT * FROM product;"
   ]
  },
  {
   "cell_type": "markdown",
   "metadata": {},
   "source": [
    "Zapytanie i wynik zapytania:"
   ]
  },
  {
   "cell_type": "code",
   "execution_count": null,
   "metadata": {},
   "outputs": [],
   "source": [
    "SELECT id,name,price FROM product WHERE price>20 LIMIT 1;"
   ]
  },
  {
   "cell_type": "markdown",
   "metadata": {},
   "source": [
    "#### Ćwiczenie\n",
    "\n",
    "**Wybierz id i imię `4` pierwszych klientów korzystając z klauzuli `LIMIT`**\n",
    "\n",
    "Tabela **`Customer`**:"
   ]
  },
  {
   "cell_type": "code",
   "execution_count": null,
   "metadata": {},
   "outputs": [],
   "source": [
    "SELECT * FROM customer;"
   ]
  },
  {
   "cell_type": "markdown",
   "metadata": {},
   "source": [
    "Wpisz zapytanie do bazy!"
   ]
  },
  {
   "cell_type": "markdown",
   "metadata": {},
   "source": [
    "---"
   ]
  },
  {
   "cell_type": "markdown",
   "metadata": {},
   "source": [
    "Zapytanie i wynik zapytania:"
   ]
  },
  {
   "cell_type": "code",
   "execution_count": null,
   "metadata": {},
   "outputs": [],
   "source": [
    "SELECT id,name FROM customer LIMIT 0,4;"
   ]
  },
  {
   "cell_type": "markdown",
   "metadata": {},
   "source": [
    "## Aliasy – zastępcze nazwy kolumn lub tabeli\n",
    "\n",
    "Alias to nazwa zastępcza, którą możemy zdefiniować dla konkretnej kolumny lub tabeli na początku zapytania, a następnie używać w całym zapytaniu jako wygodniejsza (zazwyczaj dużo krótsza) nazwa.\n",
    "\n",
    "Alias definiuje się używając klauzuli “`AS`” zaraz po nazwie kolumny lub tabeli w następujący sposób:\n",
    "\n",
    "```sqlite\n",
    "SELECT kolumna AS kol FROM tabela AS tab WHERE tab.kol=wartość;\n",
    "```\n",
    "\n",
    "Od momentu takiej definicji do kolumny kolumna wystarczy odwoływać się aliasem `kol` a tabeli tabela aliasem `tab`.\n",
    "\n",
    "Do kolumny w konkretnej tabeli odwołujemy się za pomocą operatora kropki “`.`”. Jest to szczególnie istotne w zapytaniach, w których korzysta się z więcej niż jednej tabeli.\n",
    "\n",
    "Aliasy znajdują praktyczne zastosowanie w bardziej złożonych zapytaniach np. Korzystających ze złączenia tabel czy podzapytania.\n",
    "\n",
    "Korzystanie z aliasów przy łączeniu tabel zostanie omówione na poziomie zaawansowanym "
   ]
  },
  {
   "cell_type": "markdown",
   "metadata": {},
   "source": [
    "## Funkcje grupujące\n",
    "\n",
    "Są to funkcje umożliwiające wykonanie pożądanych operacji na całych tabelach lub tylko niektórych zbiorach danych, zwracające ogólne wyniki dotyczące np. liczebności czy średnich wartości."
   ]
  },
  {
   "cell_type": "markdown",
   "metadata": {},
   "source": [
    "### `COUNT()`\n",
    "\n",
    "Zwraca liczbę przekazanych wartości. Jest to po prostu liczba elementów w podanym zbiorze\n",
    "\n",
    "```sqlite\n",
    "SELECT COUNT(kolumna) FROM tabela;\n",
    "```\n",
    "\n",
    "Może służyć do zliczenia ilości rekordów w tabeli."
   ]
  },
  {
   "cell_type": "markdown",
   "metadata": {},
   "source": [
    "#### Przykład\n",
    "\n",
    "**Liczymy ile produktów jest w tabeli `Product`**\n",
    "\n",
    "Tabela **`Product`**:"
   ]
  },
  {
   "cell_type": "code",
   "execution_count": null,
   "metadata": {},
   "outputs": [],
   "source": [
    "SELECT * FROM product;"
   ]
  },
  {
   "cell_type": "markdown",
   "metadata": {},
   "source": [
    "Zapytanie i wynik zapytania:"
   ]
  },
  {
   "cell_type": "code",
   "execution_count": null,
   "metadata": {},
   "outputs": [],
   "source": [
    "SELECT COUNT(name) FROM product;"
   ]
  },
  {
   "cell_type": "markdown",
   "metadata": {},
   "source": [
    "### `SUM()`\n",
    "\n",
    "Zwraca sumę wartości podanego zbioru\n",
    "\n",
    "```sqlite\n",
    "SELECT SUM(kolumna);\n",
    "```\n",
    "\n",
    "Musimy uważać aby argumentem były zawsze liczby."
   ]
  },
  {
   "cell_type": "markdown",
   "metadata": {},
   "source": [
    "#### Przykład\n",
    "\n",
    "**Wybieramy sumę wszystkich sztuk z tabeli `Product`**\n",
    "\n",
    "Tabela **`Product`**:"
   ]
  },
  {
   "cell_type": "code",
   "execution_count": null,
   "metadata": {},
   "outputs": [],
   "source": [
    "SELECT * FROM product;"
   ]
  },
  {
   "cell_type": "markdown",
   "metadata": {},
   "source": [
    "Zapytanie i wynik zapytania:"
   ]
  },
  {
   "cell_type": "code",
   "execution_count": null,
   "metadata": {},
   "outputs": [],
   "source": [
    "SELECT SUM(amount) FROM product;"
   ]
  },
  {
   "cell_type": "markdown",
   "metadata": {},
   "source": [
    "#### Ćwiczenie\n",
    "\n",
    "**Znajdź sumę cen jednostkowych wszystkich produktów**\n",
    "\n",
    "Tabela **`Product`**:"
   ]
  },
  {
   "cell_type": "code",
   "execution_count": null,
   "metadata": {},
   "outputs": [],
   "source": [
    "SELECT * FROM product;"
   ]
  },
  {
   "cell_type": "markdown",
   "metadata": {},
   "source": [
    "Wpisz zapytanie do bazy!"
   ]
  },
  {
   "cell_type": "markdown",
   "metadata": {},
   "source": [
    "---"
   ]
  },
  {
   "cell_type": "markdown",
   "metadata": {},
   "source": [
    "Zapytanie i wynik zapytania:"
   ]
  },
  {
   "cell_type": "code",
   "execution_count": null,
   "metadata": {},
   "outputs": [],
   "source": [
    "SELECT SUM(price) FROM product;"
   ]
  },
  {
   "cell_type": "markdown",
   "metadata": {},
   "source": [
    "### `AVG()`\n",
    "\n",
    "Zwraca średnią wartość z podanego zbioru\n",
    "\n",
    "```sqlite\n",
    "SELECT AVG(kolumna);\n",
    "```\n",
    "\n",
    "Musimy uważać aby argumentem były zawsze liczby."
   ]
  },
  {
   "cell_type": "markdown",
   "metadata": {},
   "source": [
    "#### Przykład\n",
    "\n",
    "**Liczymy średnią cenę w tabeli `Product`**\n",
    "\n",
    "Tabela **`Product`**:"
   ]
  },
  {
   "cell_type": "code",
   "execution_count": null,
   "metadata": {},
   "outputs": [],
   "source": [
    "SELECT * FROM product;"
   ]
  },
  {
   "cell_type": "markdown",
   "metadata": {},
   "source": [
    "Zapytanie:"
   ]
  },
  {
   "cell_type": "code",
   "execution_count": null,
   "metadata": {},
   "outputs": [],
   "source": [
    "SELECT AVG(price) FROM product;"
   ]
  },
  {
   "cell_type": "markdown",
   "metadata": {},
   "source": [
    "#### Ćwiczenie\n",
    "\n",
    "**Oblicz średnią liczbę produktów z tabeli `Product`, których cena jest wyższa od `40`**\n",
    "\n",
    "Tabela **`Product`**:"
   ]
  },
  {
   "cell_type": "code",
   "execution_count": null,
   "metadata": {},
   "outputs": [],
   "source": [
    "SELECT * FROM product;"
   ]
  },
  {
   "cell_type": "markdown",
   "metadata": {},
   "source": [
    "Wpisz zapytanie do bazy!"
   ]
  },
  {
   "cell_type": "markdown",
   "metadata": {},
   "source": [
    "---"
   ]
  },
  {
   "cell_type": "markdown",
   "metadata": {},
   "source": [
    "Zapytanie i wynik zapytania:"
   ]
  },
  {
   "cell_type": "code",
   "execution_count": null,
   "metadata": {},
   "outputs": [],
   "source": [
    "SELECT AVG(amount) FROM product WHERE price>40;"
   ]
  },
  {
   "cell_type": "markdown",
   "metadata": {},
   "source": [
    "### `MIN()`\n",
    "\n",
    "Zwraca najmniejszą wartość z podanego zbioru\n",
    "\n",
    "```sqlite\n",
    "SELECT MIN(kolumna);\n",
    "```\n",
    "\n",
    "Argumentami mogą być liczby, dane tekstowe i daty z czasem."
   ]
  },
  {
   "cell_type": "markdown",
   "metadata": {},
   "source": [
    "#### Przykład\n",
    "\n",
    "**Wybieramy id i cenę produktu o najniższej cenie**\n",
    "\n",
    "Tabela **`Product`**:"
   ]
  },
  {
   "cell_type": "code",
   "execution_count": null,
   "metadata": {},
   "outputs": [],
   "source": [
    "SELECT * FROM product;"
   ]
  },
  {
   "cell_type": "markdown",
   "metadata": {},
   "source": [
    "Zapytanie i wynik zapytania:"
   ]
  },
  {
   "cell_type": "code",
   "execution_count": null,
   "metadata": {},
   "outputs": [],
   "source": [
    "SELECT id,MIN(price) FROM product;"
   ]
  },
  {
   "cell_type": "markdown",
   "metadata": {},
   "source": [
    "### `MAX()`\n",
    "\n",
    "Zwraca największą wartość z podanego zbioru\n",
    "\n",
    "```sqlite\n",
    "SELECT MAX(kolumna);\n",
    "```\n",
    "\n",
    "Argumentami mogą być liczby, dane tekstowe i daty z czasem."
   ]
  },
  {
   "cell_type": "markdown",
   "metadata": {},
   "source": [
    "## Klauzula `DISTINCT`"
   ]
  },
  {
   "cell_type": "markdown",
   "metadata": {},
   "source": [
    "### Klauzula `DISTINCT`\n",
    "\n",
    "Zwraca w wyniku rekordy bez powtórzeń\n",
    "\n",
    "```sqlite\n",
    "SELECT DISTINCT(kolumna) FROM tabela;\n",
    "```"
   ]
  },
  {
   "cell_type": "markdown",
   "metadata": {},
   "source": [
    "#### Przykład\n",
    "\n",
    "**Zwracamy w wyniku miasta bez powtórzeń**\n",
    "\n",
    "Tabela **`Customer`**:"
   ]
  },
  {
   "cell_type": "code",
   "execution_count": null,
   "metadata": {},
   "outputs": [],
   "source": [
    "SELECT * FROM customer;"
   ]
  },
  {
   "cell_type": "markdown",
   "metadata": {},
   "source": [
    "Zapytanie i wynik zapytania:"
   ]
  },
  {
   "cell_type": "code",
   "execution_count": null,
   "metadata": {},
   "outputs": [],
   "source": [
    "SELECT DISTINCT city FROM customer;"
   ]
  },
  {
   "cell_type": "markdown",
   "metadata": {},
   "source": [
    "### Użycie w agregatach\n",
    "\n",
    "Może być także użyte w agregatach, np.:\n",
    "\n",
    "```sqlite\n",
    "SELECT COUNT(DISTINCT kolumna) FROM tabela;\n",
    "```"
   ]
  },
  {
   "cell_type": "markdown",
   "metadata": {},
   "source": [
    "#### Przykład\n",
    "\n",
    "**Zwracamy w wyniku liczbę miast bez powtórzeń**\n",
    "\n",
    "Tabela **`Customer`**:"
   ]
  },
  {
   "cell_type": "code",
   "execution_count": null,
   "metadata": {},
   "outputs": [],
   "source": [
    "SELECT * FROM customer;"
   ]
  },
  {
   "cell_type": "markdown",
   "metadata": {},
   "source": [
    "Zapytanie i wynik zapytania:"
   ]
  },
  {
   "cell_type": "code",
   "execution_count": null,
   "metadata": {},
   "outputs": [],
   "source": [
    "SELECT COUNT(DISTINCT city) FROM customer;"
   ]
  },
  {
   "cell_type": "markdown",
   "metadata": {},
   "source": [
    "## Funkcje daty"
   ]
  },
  {
   "cell_type": "markdown",
   "metadata": {},
   "source": [
    "### Funkcje daty SQL\n",
    "\n",
    "Umożliwiają operacje na dacie i czasie w trakcie wykonywania zapytania. Typowe funkcje to:\n",
    "\n",
    "`DAY()`, `MONTH()`, `YEAR()`\n",
    "\n",
    "Zwracają kolejno dzień, miesiąc, rok z podanej w argumencie daty\n",
    "\n",
    "```sql\n",
    "SELECT DAY(data);\n",
    "```"
   ]
  },
  {
   "cell_type": "markdown",
   "metadata": {},
   "source": [
    "### Funkcje daty SQLite\n",
    "\n",
    "Umożliwiają operacje na dacie i czasie w trakcie wykonywania zapytania. Typowe funkcje to:\n",
    "\n",
    "`strftime('%d')`, `strftime('%m')`, `strftime('%Y')`\n",
    "\n",
    "Zwracają kolejno dzień, miesiąc, rok z podanej w argumencie daty\n",
    "\n",
    "```sqlite\n",
    "SELECT strftime('%d',data);\n",
    "```"
   ]
  },
  {
   "cell_type": "markdown",
   "metadata": {},
   "source": [
    "#### Przykład\n",
    "\n",
    "**Wybieramy id, imiona i daty dodania klientów którzy zarejestrowali się w lutym!**\n",
    "\n",
    "Tabela **`Customer`**:"
   ]
  },
  {
   "cell_type": "code",
   "execution_count": null,
   "metadata": {},
   "outputs": [],
   "source": [
    "SELECT * FROM customer;"
   ]
  },
  {
   "cell_type": "markdown",
   "metadata": {},
   "source": [
    "Zapytanie i wynik zapytania:"
   ]
  },
  {
   "cell_type": "code",
   "execution_count": null,
   "metadata": {},
   "outputs": [],
   "source": [
    "SELECT id,name,date FROM customer WHERE STRFTIME('%m',date)='02';"
   ]
  },
  {
   "cell_type": "markdown",
   "metadata": {},
   "source": [
    "#### Ćwiczenie\n",
    "\n",
    "**Wybierz nazwę, cenę i datę dodania produktów z tabeli `Product`, których dzień dodania należy do przedziału od `1` do `10`**\n",
    "\n",
    "Tabela **`Product`**:"
   ]
  },
  {
   "cell_type": "code",
   "execution_count": null,
   "metadata": {},
   "outputs": [],
   "source": [
    "SELECT * FROM product;"
   ]
  },
  {
   "cell_type": "markdown",
   "metadata": {},
   "source": [
    "Wpisz zapytanie do bazy!"
   ]
  },
  {
   "cell_type": "markdown",
   "metadata": {},
   "source": [
    "---"
   ]
  },
  {
   "cell_type": "markdown",
   "metadata": {},
   "source": [
    "Zapytanie i wynik zapytania:"
   ]
  },
  {
   "cell_type": "code",
   "execution_count": null,
   "metadata": {},
   "outputs": [],
   "source": [
    "SELECT name,price,date FROM product WHERE STRFTIME('%d',date) BETWEEN '01' AND '10';"
   ]
  },
  {
   "cell_type": "markdown",
   "metadata": {},
   "source": [
    "### `GETDATE()`\n",
    "\n",
    "Zwraca bieżącą datę i czas - SQL\n",
    "\n",
    "```sql\n",
    "SELECT GETDATE();\n",
    "```"
   ]
  },
  {
   "cell_type": "markdown",
   "metadata": {},
   "source": [
    "### `DATE('now')`\n",
    "\n",
    "Zwraca bieżącą datę i czas - SQLite\n",
    "\n",
    "```sqlite\n",
    "SELECT DATE('now');\n",
    "```"
   ]
  },
  {
   "cell_type": "code",
   "execution_count": null,
   "metadata": {},
   "outputs": [],
   "source": [
    "SELECT DATE('now');"
   ]
  },
  {
   "cell_type": "markdown",
   "metadata": {},
   "source": [
    "### `DATEDIFF()`\n",
    "\n",
    "Zwraca liczbę podanych jednostek pomiędzy podanymi datami - SQL\n",
    "\n",
    "```sql\n",
    "SELECT DATEDIFF(DAY,'20110210','20110310');\n",
    "```"
   ]
  },
  {
   "cell_type": "markdown",
   "metadata": {},
   "source": [
    "### `JULIANDAY()-JULIANDAY()`\n",
    "\n",
    "Zwraca liczbę podanych dni pomiędzy podanymi datami - SQLite\n",
    "\n",
    "```sqlite\n",
    "SELECT JULIANDAY('2011-02-10')-JULIANDAY('2011-03-10');\n",
    "```"
   ]
  },
  {
   "cell_type": "code",
   "execution_count": null,
   "metadata": {},
   "outputs": [],
   "source": [
    "SELECT JULIANDAY(DATE('now'));"
   ]
  },
  {
   "cell_type": "code",
   "execution_count": null,
   "metadata": {},
   "outputs": [],
   "source": [
    "SELECT JULIANDAY('2011-02-10')-JULIANDAY('2011-03-10');"
   ]
  },
  {
   "cell_type": "markdown",
   "metadata": {},
   "source": [
    "## Klauzula `GROUP BY`\n",
    "\n",
    "Klauzula `GROUP BY` umożliwia wykonywanie funkcji grupujących na grupie wartości wyodrębnionych na podstawie wartości innej kolumny.\n",
    "\n",
    "Aby użyć kolumny do grupowania, musimy pamiętać, aby umieścić ją w liście kolumn, zaraz po słowie `SELECT`. W przeciwnym razie nie będzie ona dostępna dla klauzuli grupującej `GROUP BY`.\n",
    "\n",
    "```sqlite\n",
    "SELECT SUM(kolumna),inna_kolumna FROM tabela GROUP BY inna_kolumna;\n",
    "```\n",
    "\n",
    "Oblicza agregaty - funkcje obliczane dla zbiorów wierszy.\n",
    "\n",
    "Istnieje kilka agregatów:\n",
    "\n",
    "* `COUNT()` - zlicza elementy\n",
    "* `SUM()` - dodaje elementy\n",
    "* `MIN()`, `MAX()`, `AVG()` - obliczają odpowiednio wartość najmniejszą, największą i średnią\n",
    "\n",
    "Dodatkowa baza danych do zaimportowania w programie DB Browser znajduje się w plikach [`simple_library_db.csv`](https://github.com/pkociepka/sql/blob/master/simple_library_db.csv) oraz [`library_db.sql`](https://github.com/pkociepka/sql/blob/master/library_db.sql)\n",
    "\n",
    "Schemat bazy danych z pliku [`library_db.sql`](https://github.com/pkociepka/sql/blob/master/library_db.sql) znajdziesz w pliku [`library_db_scheme.png`](https://github.com/pkociepka/sql/blob/master/library_db_schema.png)\n",
    "\n",
    "![](https://raw.githubusercontent.com/pkociepka/sql/master/library_db_schema.png)"
   ]
  },
  {
   "cell_type": "markdown",
   "metadata": {},
   "source": [
    "#### Przykład\n",
    "\n",
    "**Chcemy policzyć książki napisane przez każdego autora**\n",
    "\n",
    "Tabela **`Titles`**:"
   ]
  },
  {
   "cell_type": "code",
   "execution_count": null,
   "metadata": {},
   "outputs": [],
   "source": [
    "%LOAD library_db.db rw"
   ]
  },
  {
   "cell_type": "code",
   "execution_count": null,
   "metadata": {},
   "outputs": [],
   "source": [
    "SELECT * FROM titles;"
   ]
  },
  {
   "cell_type": "markdown",
   "metadata": {},
   "source": [
    "Zapytanie i wynik zapytania:"
   ]
  },
  {
   "cell_type": "code",
   "execution_count": null,
   "metadata": {},
   "outputs": [],
   "source": [
    "SELECT author_id,COUNT(title) FROM titles GROUP BY author_id;"
   ]
  },
  {
   "cell_type": "markdown",
   "metadata": {},
   "source": [
    "#### Ćwiczenie\n",
    "\n",
    "**Podaj nazwy miast wraz z sumaryczną liczbą ich wystąpień**\n",
    "\n",
    "Tabela **`Customer`**:"
   ]
  },
  {
   "cell_type": "code",
   "execution_count": null,
   "metadata": {},
   "outputs": [],
   "source": [
    "%LOAD CodeBrainers.db rw"
   ]
  },
  {
   "cell_type": "code",
   "execution_count": null,
   "metadata": {},
   "outputs": [],
   "source": [
    "SELECT * FROM customer;"
   ]
  },
  {
   "cell_type": "markdown",
   "metadata": {},
   "source": [
    "Wpisz zapytanie do bazy!"
   ]
  },
  {
   "cell_type": "markdown",
   "metadata": {},
   "source": [
    "---"
   ]
  },
  {
   "cell_type": "markdown",
   "metadata": {},
   "source": [
    "Zapytanie i wynik zapytania:"
   ]
  },
  {
   "cell_type": "code",
   "execution_count": null,
   "metadata": {},
   "outputs": [],
   "source": [
    "SELECT city,COUNT(city) FROM customer GROUP BY city;"
   ]
  },
  {
   "cell_type": "markdown",
   "metadata": {},
   "source": [
    "#### Ćwiczenie\n",
    "\n",
    "**Podaj łączną liczbę możliwych do wypożyczenia książek każdego autora**\n",
    "\n",
    "Tabela **`Simple_library_db`**:"
   ]
  },
  {
   "cell_type": "code",
   "execution_count": null,
   "metadata": {},
   "outputs": [],
   "source": [
    "%LOAD simple_library_db.db rw"
   ]
  },
  {
   "cell_type": "code",
   "execution_count": null,
   "metadata": {},
   "outputs": [],
   "source": [
    "SELECT * FROM simple_library_db;"
   ]
  },
  {
   "cell_type": "markdown",
   "metadata": {},
   "source": [
    "Wpisz zapytanie do bazy!"
   ]
  },
  {
   "cell_type": "markdown",
   "metadata": {},
   "source": [
    "---"
   ]
  },
  {
   "cell_type": "markdown",
   "metadata": {},
   "source": [
    "Zapytanie i wynik zapytania:"
   ]
  },
  {
   "cell_type": "code",
   "execution_count": null,
   "metadata": {},
   "outputs": [],
   "source": [
    "SELECT Author_surname,COUNT(Author_surname) FROM simple_library_db GROUP BY Author_surname;"
   ]
  },
  {
   "cell_type": "markdown",
   "metadata": {},
   "source": [
    "#### Ćwiczenie\n",
    "\n",
    "**Podaj łączną liczbę tytułów każdego autora**\n",
    "\n",
    "Tabela **`Simple_library_db`**:"
   ]
  },
  {
   "cell_type": "code",
   "execution_count": null,
   "metadata": {},
   "outputs": [],
   "source": [
    "SELECT * FROM simple_library_db;"
   ]
  },
  {
   "cell_type": "markdown",
   "metadata": {},
   "source": [
    "Wpisz zapytanie do bazy!"
   ]
  },
  {
   "cell_type": "markdown",
   "metadata": {},
   "source": [
    "---"
   ]
  },
  {
   "cell_type": "markdown",
   "metadata": {},
   "source": [
    "Zapytanie i wynik zapytania:"
   ]
  },
  {
   "cell_type": "code",
   "execution_count": null,
   "metadata": {},
   "outputs": [],
   "source": [
    "SELECT author_surname,COUNT(DISTINCT title) FROM simple_library_db GROUP BY author_surname;"
   ]
  },
  {
   "cell_type": "markdown",
   "metadata": {},
   "source": [
    "#### Ćwiczenie\n",
    "\n",
    "**Oblicz liczbę książek pożyczonych przez każdego z użytkowników**\n",
    "\n",
    "Tabela **`Borrowings`**:"
   ]
  },
  {
   "cell_type": "code",
   "execution_count": null,
   "metadata": {},
   "outputs": [],
   "source": [
    "%LOAD library_db.db rw"
   ]
  },
  {
   "cell_type": "code",
   "execution_count": null,
   "metadata": {},
   "outputs": [],
   "source": [
    "SELECT * FROM borrowings;"
   ]
  },
  {
   "cell_type": "markdown",
   "metadata": {},
   "source": [
    "Wpisz zapytanie do bazy!"
   ]
  },
  {
   "cell_type": "markdown",
   "metadata": {},
   "source": [
    "---"
   ]
  },
  {
   "cell_type": "markdown",
   "metadata": {},
   "source": [
    "Zapytanie i wynik zapytania:"
   ]
  },
  {
   "cell_type": "code",
   "execution_count": null,
   "metadata": {},
   "outputs": [],
   "source": [
    "SELECT user_id,COUNT(book_id) FROM borrowings GROUP BY user_id ORDER BY user_id;"
   ]
  },
  {
   "cell_type": "markdown",
   "metadata": {},
   "source": [
    "Klauzula `HAVING`, znajdująca się zaraz po `GROUP BY`, służy do określania dodatkowych kryteriów przy grupowaniu (jest to odpowiednik warunku `WHERE` w zapytaniach bez funkcji grupujących).\n",
    "\n",
    "```sqlite\n",
    "SELECT SUM(kolumna) FROM tabela GROUP BY inna kolumna HAVING SUM(kolumna)>wartość;\n",
    "```\n",
    "\n",
    "`HAVING` filtruje rekordy na podstawie wartości agregatów - analogicznie jak `WHERE` filtruje na podstawie wartości pojedynczych pól"
   ]
  },
  {
   "cell_type": "markdown",
   "metadata": {},
   "source": [
    "#### Przykład\n",
    "\n",
    "**Chcemy policzyć książki napisane przez każdego autora, który ma ponad pięć książek**\n",
    "\n",
    "Tabela **`Titles`**:"
   ]
  },
  {
   "cell_type": "code",
   "execution_count": null,
   "metadata": {},
   "outputs": [],
   "source": [
    "SELECT * FROM titles;"
   ]
  },
  {
   "cell_type": "markdown",
   "metadata": {},
   "source": [
    "Zapytanie i wynik zapytania:"
   ]
  },
  {
   "cell_type": "code",
   "execution_count": null,
   "metadata": {},
   "outputs": [],
   "source": [
    "SELECT author_id,COUNT(title) FROM titles GROUP BY author_id HAVING COUNT(title)>5;"
   ]
  },
  {
   "cell_type": "markdown",
   "metadata": {},
   "source": [
    "#### Ćwiczenie\n",
    "\n",
    "**Podaj nazwy miast wraz z sumaryczną liczbą ich wystąpień, ale tylko takich, które występują więcej niż jeden raz**\n",
    "\n",
    "Tabela **`Customer`**:"
   ]
  },
  {
   "cell_type": "code",
   "execution_count": null,
   "metadata": {},
   "outputs": [],
   "source": [
    "%LOAD CodeBrainers.db rw"
   ]
  },
  {
   "cell_type": "code",
   "execution_count": null,
   "metadata": {},
   "outputs": [],
   "source": [
    "SELECT * FROM customer;"
   ]
  },
  {
   "cell_type": "markdown",
   "metadata": {},
   "source": [
    "Wpisz zapytanie do bazy!"
   ]
  },
  {
   "cell_type": "markdown",
   "metadata": {},
   "source": [
    "---"
   ]
  },
  {
   "cell_type": "markdown",
   "metadata": {},
   "source": [
    "Zapytanie i wynik zapytania:"
   ]
  },
  {
   "cell_type": "code",
   "execution_count": null,
   "metadata": {},
   "outputs": [],
   "source": [
    "SELECT city,COUNT(city) FROM customer GROUP BY city HAVING COUNT(city)>1;"
   ]
  },
  {
   "cell_type": "markdown",
   "metadata": {},
   "source": [
    "#### Ćwiczenie\n",
    "\n",
    "**Podaj id produktów z tabeli Order_product wraz z liczbą wszystkich zamówionych sztuk, jeśli liczba ta należy do zbioru {2,4}**\n",
    "\n",
    "Tabela **`Order_product`**:"
   ]
  },
  {
   "cell_type": "code",
   "execution_count": null,
   "metadata": {},
   "outputs": [],
   "source": [
    "SELECT * FROM order_product;"
   ]
  },
  {
   "cell_type": "markdown",
   "metadata": {},
   "source": [
    "Wpisz zapytanie do bazy!"
   ]
  },
  {
   "cell_type": "markdown",
   "metadata": {},
   "source": [
    "---"
   ]
  },
  {
   "cell_type": "markdown",
   "metadata": {},
   "source": [
    "Zapytanie i wynik zapytania:"
   ]
  },
  {
   "cell_type": "code",
   "execution_count": null,
   "metadata": {},
   "outputs": [],
   "source": [
    "SELECT product_id,SUM(amount) FROM order_product GROUP BY product_id HAVING SUM(amount) IN (2,4);"
   ]
  },
  {
   "cell_type": "markdown",
   "metadata": {},
   "source": [
    "## Zadania utrwalające 1"
   ]
  },
  {
   "cell_type": "markdown",
   "metadata": {},
   "source": [
    "### Ćwiczenia\n",
    "\n",
    "[`01_simple_querries.md`](https://github.com/pkociepka/sql/blob/master/exercises/01_simple_querries.md)"
   ]
  },
  {
   "cell_type": "markdown",
   "metadata": {},
   "source": [
    "### Materiały\n",
    "\n",
    "[`simple_library_db.csv`](https://github.com/pkociepka/sql/blob/master/simple_library_db.csv)"
   ]
  },
  {
   "cell_type": "code",
   "execution_count": null,
   "metadata": {},
   "outputs": [],
   "source": []
  }
 ],
 "metadata": {
  "kernelspec": {
   "display_name": "xsqlite",
   "language": "sqlite",
   "name": "xsqlite"
  },
  "language_info": {
   "codemirror_mode": "sql",
   "file_extension": "",
   "mimetype": "",
   "name": "sqlite3",
   "version": "3.30.1"
  }
 },
 "nbformat": 4,
 "nbformat_minor": 4
}
