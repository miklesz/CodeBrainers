{
 "cells": [
  {
   "cell_type": "markdown",
   "metadata": {},
   "source": [
    "![](https://media-exp1.licdn.com/dms/image/C4D0BAQHUQWhqV2rl1g/company-logo_200_200/0/1550502396615?e=2159024400&v=beta&t=_mM0D3cbDu8DL3MUvcb75g65zJ-c4Wd0nrguJGoW_gE)"
   ]
  },
  {
   "cell_type": "markdown",
   "metadata": {},
   "source": [
    "# SQL - Interfejs Pythona dla baz danych SQLite\n",
    "\n",
    "_Mikołaj Leszczuk_\n",
    "\n",
    "* Interfejs sqlite3\n",
    "* Zadania utrwalające\n",
    "* Test\n",
    "* Materiały dodatkowe"
   ]
  },
  {
   "cell_type": "markdown",
   "metadata": {},
   "source": [
    "## Interfejs sqlite3\n",
    "\n",
    "Interfejs sqlite3 to biblioteka C, która zapewnia lekką dyskową bazę danych, która nie wymaga oddzielnego procesu serwera i umożliwia dostęp do bazy danych przy użyciu niestandardowego wariantu języka zapytań SQL. Niektóre aplikacje mogą używać sqlite3 do wewnętrznego przechowywania danych. Możliwe jest również prototypowanie aplikacji przy użyciu sqlite3, a następnie przeniesienie kodu do większej bazy danych, takiej jak PostgreSQL lub Oracle.\n",
    "\n",
    "Moduł sqlite3 został napisany przez Gerharda Häringa. Zapewnia interfejs SQL zgodny ze specyfikacją DB-API 2.0 opisaną w [PEP 249](https://www.python.org/dev/peps/pep-0249).\n",
    "\n",
    "Aby użyć modułu, musisz najpierw utworzyć obiekt [`Connection`](https://docs.python.org/3/library/sqlite3.html#sqlite3.Connection), który reprezentuje bazę danych. Tutaj dane zostaną zapisane w pliku `example.db`:"
   ]
  },
  {
   "cell_type": "code",
   "execution_count": null,
   "metadata": {},
   "outputs": [],
   "source": [
    "import os\n",
    "os.remove('example.db')"
   ]
  },
  {
   "cell_type": "code",
   "execution_count": null,
   "metadata": {},
   "outputs": [],
   "source": [
    "import sqlite3\n",
    "conn = sqlite3.connect('example.db')"
   ]
  },
  {
   "cell_type": "markdown",
   "metadata": {},
   "source": [
    "Możesz również podać specjalną nazwę `:memory:` aby utworzyć bazę danych w pamięci RAM.\n",
    "\n",
    "Gdy masz już połączenie ([`Connection`](https://docs.python.org/3/library/sqlite3.html#sqlite3.Connection)), możesz utworzyć obiekt [Cursor](https://docs.python.org/3/library/sqlite3.html#sqlite3.Cursor) i wywołać jego metodę [execute()](https://docs.python.org/3/library/sqlite3.html#sqlite3.Cursor.execute) w celu wykonania poleceń SQL:"
   ]
  },
  {
   "cell_type": "code",
   "execution_count": null,
   "metadata": {},
   "outputs": [],
   "source": [
    "c = conn.cursor()"
   ]
  },
  {
   "cell_type": "markdown",
   "metadata": {},
   "source": [
    "Utwórz tabelę:"
   ]
  },
  {
   "cell_type": "code",
   "execution_count": null,
   "metadata": {},
   "outputs": [],
   "source": [
    "c.execute('''CREATE TABLE stocks\n",
    "             (date text, trans text, symbol text, qty real, price real)''')"
   ]
  },
  {
   "cell_type": "markdown",
   "metadata": {},
   "source": [
    "Wstaw wiersz danych:"
   ]
  },
  {
   "cell_type": "code",
   "execution_count": null,
   "metadata": {},
   "outputs": [],
   "source": [
    "c.execute(\"INSERT INTO stocks VALUES ('2006-01-05','BUY','RHAT',100,35.14)\")"
   ]
  },
  {
   "cell_type": "markdown",
   "metadata": {},
   "source": [
    "Zapisz (zatwierdź, ang. _commit_) zmiany:"
   ]
  },
  {
   "cell_type": "code",
   "execution_count": null,
   "metadata": {},
   "outputs": [],
   "source": [
    "conn.commit()"
   ]
  },
  {
   "cell_type": "markdown",
   "metadata": {},
   "source": [
    "Możemy również zamknąć połączenie, jeśli skończymy.\n",
    "\n",
    "Tylko upewnij się, że wszelkie zmiany zostały wprowadzone, w przeciwnym razie zostaną utracone:"
   ]
  },
  {
   "cell_type": "code",
   "execution_count": null,
   "metadata": {},
   "outputs": [],
   "source": [
    "conn.close()"
   ]
  },
  {
   "cell_type": "markdown",
   "metadata": {},
   "source": [
    "Zapisane dane są trwałe i są dostępne w kolejnych sesjach:"
   ]
  },
  {
   "cell_type": "code",
   "execution_count": null,
   "metadata": {},
   "outputs": [],
   "source": [
    "import sqlite3\n",
    "conn = sqlite3.connect('example.db')\n",
    "c = conn.cursor()"
   ]
  },
  {
   "cell_type": "markdown",
   "metadata": {},
   "source": [
    "Nigdy tego nie rób (niepewne!):"
   ]
  },
  {
   "cell_type": "code",
   "execution_count": null,
   "metadata": {},
   "outputs": [],
   "source": [
    "symbol = 'RHAT'\n",
    "c.execute(\"SELECT * FROM stocks WHERE symbol = '%s'\" % symbol)"
   ]
  },
  {
   "cell_type": "markdown",
   "metadata": {},
   "source": [
    "Zrób to zamiast tego:"
   ]
  },
  {
   "cell_type": "code",
   "execution_count": null,
   "metadata": {},
   "outputs": [],
   "source": [
    "t = ('RHAT',)\n",
    "c.execute('SELECT * FROM stocks WHERE symbol=?', t)\n",
    "print(c.fetchone())"
   ]
  },
  {
   "cell_type": "markdown",
   "metadata": {},
   "source": [
    "Argument `execute`, który reprezentuje wartości, które chcesz wstawić do bazy danych, powinien być krotką (sekwencją)!\n",
    "\n",
    "Większy przykład, który wstawia wiele rekordów naraz:"
   ]
  },
  {
   "cell_type": "code",
   "execution_count": null,
   "metadata": {},
   "outputs": [],
   "source": [
    "purchases = [('2006-03-28', 'BUY', 'IBM', 1000, 45.00),\n",
    "             ('2006-04-05', 'BUY', 'MSFT', 1000, 72.00),\n",
    "             ('2006-04-06', 'SELL', 'IBM', 500, 53.00),\n",
    "            ]\n",
    "c.executemany('INSERT INTO stocks VALUES (?,?,?,?,?)', purchases)"
   ]
  },
  {
   "cell_type": "markdown",
   "metadata": {},
   "source": [
    "Aby pobrać dane po wykonaniu instrukcji SELECT, możesz traktować kursor jako [iterator](https://docs.python.org/3/glossary.html#term-iterator), wywołać metodę [`fetchone()`](https://docs.python.org/3/library/sqlite3.html#sqlite3.Cursor.fetchone) kursora w celu pobrania pojedynczego pasującego wiersza lub wywołać funkcję [`fetchall()`](https://docs.python.org/3/library/sqlite3.html#sqlite3.Cursor.fetchall) w celu uzyskania listy pasujących wierszy.\n",
    "\n",
    "W tym przykładzie zastosowano formę iteratora:"
   ]
  },
  {
   "cell_type": "code",
   "execution_count": null,
   "metadata": {},
   "outputs": [],
   "source": [
    "for row in c.execute('SELECT * FROM stocks ORDER BY price'):\n",
    "    print(row)"
   ]
  },
  {
   "cell_type": "markdown",
   "metadata": {},
   "source": [
    "Metoda **`iterdump()`** zwraca iterator do zrzutu bazy danych w formacie tekstowym SQL. Przydatne podczas zapisywania bazy danych w pamięci w celu późniejszego przywrócenia.\n",
    "\n",
    "Można więc napisać program w Pythonie, aby utworzyć kopię zapasową bazy danych SQLite:"
   ]
  },
  {
   "cell_type": "code",
   "execution_count": null,
   "metadata": {},
   "outputs": [],
   "source": [
    "import sqlite3\n",
    "import io\n",
    "conn = sqlite3.connect('CodeBrainers.db')\n",
    "with io.open('CodeBrainers_dump.sql', 'w') as f:\n",
    "    for line in conn.iterdump():\n",
    "        f.write('%s\\n' % line)\n",
    "print('Kopia zapasowa została wykonana pomyślnie.')\n",
    "print('Zapisano jako CodeBrainers_dump.sql')\n",
    "conn.close()"
   ]
  },
  {
   "cell_type": "markdown",
   "metadata": {},
   "source": [
    "## Zadania utrwalające\n",
    "\n",
    "Python i baza danych SQLite - ćwiczenia i praktyka"
   ]
  },
  {
   "cell_type": "markdown",
   "metadata": {},
   "source": [
    "### Utwórz połączenie bazy danych SQLite z bazą danych znajdującą się w pamięci\n",
    "\n",
    "Napisz program w języku Python, aby utworzyć połączenie bazy danych SQLite z bazą danych znajdującą się w pamięci."
   ]
  },
  {
   "cell_type": "markdown",
   "metadata": {},
   "source": [
    "---"
   ]
  },
  {
   "cell_type": "markdown",
   "metadata": {},
   "source": [
    "**Kod Pythona (przykładowe rozwiązanie i przykładowe dane wyjściowe):**"
   ]
  },
  {
   "cell_type": "code",
   "execution_count": null,
   "metadata": {},
   "outputs": [],
   "source": [
    "import sqlite3\n",
    "conn = sqlite3.connect(':memory:')\n",
    "print(\"Baza danych pamięci utworzona i połączona z SQLite.\")\n",
    "conn.close()\n",
    "print(\"Połączenie SQLite jest zamknięte.\")"
   ]
  },
  {
   "cell_type": "markdown",
   "metadata": {},
   "source": [
    "### Utwórz bazę danych SQLite i połącz się z bazą danych oraz wydrukuj wersje\n",
    "\n",
    "Napisz program w Pythonie, aby utworzyć bazę danych SQLite w pliku i połączyć się z bazą danych oraz wydrukować wersję bazy danych SQLite i numer wersji modułu sqlite3 w postaci ciągu.\n",
    "\n",
    "Podpowiedzi:\n",
    "* Funkcja SQLite **sqlite_version()** zwraca ciąg znaków wersji dla uruchomionej biblioteki SQLite.\n",
    "* Funkcja Pythona `sqlite3.`**`version`** zwraca numer wersji modułu sqlite3 w postaci ciągu. To nie jest wersja biblioteki SQLite!"
   ]
  },
  {
   "cell_type": "markdown",
   "metadata": {},
   "source": [
    "---"
   ]
  },
  {
   "cell_type": "markdown",
   "metadata": {},
   "source": [
    "**Kod Pythona (przykładowe rozwiązanie i przykładowe dane wyjściowe):**"
   ]
  },
  {
   "cell_type": "code",
   "execution_count": null,
   "metadata": {},
   "outputs": [],
   "source": [
    "import sqlite3\n",
    "conn = sqlite3.connect('temp.db')\n",
    "c = conn.cursor()\n",
    "print(\"Baza danych stworzona i połączona z SQLite.\")\n",
    "query = \"SELECT sqlite_version();\"\n",
    "c.execute(query)\n",
    "record = c.fetchall()\n",
    "print(\"Wersja bazy danych SQLite to: \", record)\n",
    "print(\"Wersja modułu sqlite3 to: \", sqlite3.version)\n",
    "conn.close()\n",
    "print(\"Połączenie SQLite jest zamknięte.\")"
   ]
  },
  {
   "cell_type": "markdown",
   "metadata": {},
   "source": [
    "### Utwórz bazę danych SQLite, połącz się z bazą danych oraz zabezpiecz się przed wyjątkami\n",
    "\n",
    "Napisz program w Pythonie, aby utworzyć bazę danych SQLite i połączyć się z bazą danych oraz zabezpieczyć się przed wyjątkami. Wywołaj sztucznie wyjątek, wykonując błędne zapytanie.\n",
    "\n",
    "Podpowiedź: _wyjątek_ `sqlite3.`**`Error`** jest to klasa bazowa pozostałych wyjątków w module sqlite3. Jest to zarazem podklasa [`Exception`](https://docs.python.org/3/library/exceptions.html#Exception)."
   ]
  },
  {
   "cell_type": "markdown",
   "metadata": {},
   "source": [
    "---"
   ]
  },
  {
   "cell_type": "markdown",
   "metadata": {},
   "source": [
    "**Kod Pythona (przykładowe rozwiązanie i przykładowe dane wyjściowe):**"
   ]
  },
  {
   "cell_type": "code",
   "execution_count": null,
   "metadata": {},
   "outputs": [],
   "source": [
    "import sqlite3\n",
    "try:\n",
    "    conn = sqlite3.connect(':memory:')\n",
    "    c = conn.cursor()\n",
    "    print(\"Baza danych stworzona i połączona z SQLite.\")\n",
    "    c.execute(\"SELECT * FROM users;\")\n",
    "except sqlite3.Error as error:\n",
    "    print(\"Błąd podczas łączenia się z SQLite\", error)\n",
    "finally:\n",
    "    conn.close()\n",
    "    print(\"Połączenie SQLite jest zamknięte.\")"
   ]
  },
  {
   "cell_type": "markdown",
   "metadata": {},
   "source": [
    "### Utwórz tabelę w bazie danych SQLite\n",
    "\n",
    "Napisz program w Pythonie, aby połączyć bazę danych SQLite, utworzyć tabelę w bazie danych i zweryfikować jej utworzenie.\n",
    "\n",
    "Podpowiedź: Każda baza danych SQLite zawiera pojedynczą „tabelę schematów”, która przechowuje schemat tej bazy danych. Schemat bazy danych to opis wszystkich innych tabel, indeksów, wyzwalaczy i widoków zawartych w bazie danych. Tabela schematów wygląda następująco:\n",
    "\n",
    "```sqlite\n",
    "CREATE TABLE sqlite_schema(\n",
    "  type text,\n",
    "  name text,\n",
    "  tbl_name text,\n",
    "  rootpage integer,\n",
    "  sql text\n",
    ");\n",
    "```\n",
    "\n",
    "Tabela `sqlite_schema` zawiera po jednym wierszu dla każdej tabeli, indeksu, widoku i wyzwalacza (zbiorczo „obiekty”) w schemacie, z wyjątkiem tego, że nie ma wpisu dla samej tabeli `sqlite_schema`. Zapoznaj się z podsekcją dotyczącą [przechowywania schematów](https://www.sqlite.org/fileformat2.html#ffschema) w dokumentacji [formatu plików](https://www.sqlite.org/fileformat2.html), aby uzyskać dodatkowe informacje o tym, jak program SQLite używa wewnętrznie tabeli `sqlite_schema`."
   ]
  },
  {
   "cell_type": "markdown",
   "metadata": {},
   "source": [
    "---"
   ]
  },
  {
   "cell_type": "markdown",
   "metadata": {},
   "source": [
    "**Kod Pythona (przykładowe rozwiązanie i przykładowe dane wyjściowe):**"
   ]
  },
  {
   "cell_type": "code",
   "execution_count": null,
   "metadata": {},
   "outputs": [],
   "source": [
    "import sqlite3\n",
    "conn = sqlite3.connect(':memory:')\n",
    "c = conn.cursor()\n",
    "c.execute(\"CREATE TABLE users(login VARCHAR(8) NOT NULL, name VARCHAR(40) NOT NULL, phone_no VARCHAR(15));\")\n",
    "print(\"Utworzono tabelę Users.\")\n",
    "c.execute(\"SELECT * FROM sqlite_schema;\")\n",
    "record = c.fetchall()\n",
    "print(record)\n",
    "conn.close()\n",
    "print(\"Połączenie SQLite jest zamknięte.\")"
   ]
  },
  {
   "cell_type": "markdown",
   "metadata": {},
   "source": [
    "### Wypisz zawartość tabel z pliku bazy danych SQLite CodeBrainers\n",
    "\n",
    "Napisz program w Pythonie, który wyświetli listy zawartości tabel pliku bazy danych SQLite CodeBrainers."
   ]
  },
  {
   "cell_type": "markdown",
   "metadata": {},
   "source": [
    "---"
   ]
  },
  {
   "cell_type": "markdown",
   "metadata": {},
   "source": [
    "**Kod Pythona (przykładowe rozwiązanie i przykładowe dane wyjściowe):**"
   ]
  },
  {
   "cell_type": "code",
   "execution_count": null,
   "metadata": {},
   "outputs": [],
   "source": [
    "import sqlite3\n",
    "conn = sqlite3.connect('CodeBrainers.db')\n",
    "c = conn.cursor()\n",
    "print(\"Wykaz zawartości tabel:\")\n",
    "c.execute(\"SELECT * FROM product\")\n",
    "print(c.fetchall())\n",
    "c.execute(\"SELECT * FROM customer\")\n",
    "print(c.fetchall())\n",
    "c.execute(\"SELECT * FROM order_product\")\n",
    "print(c.fetchall())\n",
    "conn.close()\n",
    "print(\"Połączenie SQLite jest zamknięte.\")"
   ]
  },
  {
   "cell_type": "markdown",
   "metadata": {},
   "source": [
    "### Utwórz tabelę w bazie danych SQLite\n",
    "\n",
    "Napisz program w Pythonie, aby połączyć bazę danych SQLite, utworzyć tabelę w bazie danych, dodać jeden wiersz i go wyświetlić z bazy danych.\n",
    "\n",
    "Struktura tabeli `Users`:\n",
    "\n",
    "```sqlite\n",
    "login VARCHAR(8) NOT NULL\n",
    "name VARCHAR(40) NOT NULL\n",
    "phone_no VARCHAR(15)\n",
    "```"
   ]
  },
  {
   "cell_type": "markdown",
   "metadata": {},
   "source": [
    "---"
   ]
  },
  {
   "cell_type": "markdown",
   "metadata": {},
   "source": [
    "**Kod Pythona (przykładowe rozwiązanie i przykładowe dane wyjściowe):**"
   ]
  },
  {
   "cell_type": "code",
   "execution_count": null,
   "metadata": {},
   "outputs": [],
   "source": [
    "import sqlite3\n",
    "conn = sqlite3.connect(':memory:')\n",
    "c = conn.cursor()\n",
    "c.execute(\"CREATE TABLE users(login VARCHAR(8) NOT NULL, name VARCHAR(40) NOT NULL, phone_no VARCHAR(15));\")\n",
    "print(\"Utworzono tabelę Users.\")\n",
    "c.execute(\"INSERT INTO users VALUES ('user', 'Jan Nowak', '1234567890');\")\n",
    "c.execute(\"SELECT * FROM users;\")\n",
    "record = c.fetchall()\n",
    "print(record)\n",
    "conn.close()\n",
    "print(\"Połączenie SQLite jest zamknięte.\")"
   ]
  },
  {
   "cell_type": "markdown",
   "metadata": {},
   "source": [
    "### Wstaw listę rekordów do podanej tabeli SQLite i policz liczbę wierszy w danej tabeli SQLite\n",
    "\n",
    "Napisz program w Pythonie, który wstawi listę kilku rekordów do podanej tabeli SQLite o kilku kolumnach (jednym poleceniem). Policz liczbę wierszy w danej tabeli SQLite (przed i po wstawieniu wierszy)."
   ]
  },
  {
   "cell_type": "markdown",
   "metadata": {},
   "source": [
    "---"
   ]
  },
  {
   "cell_type": "markdown",
   "metadata": {},
   "source": [
    "**Kod Pythona (przykładowe rozwiązanie i przykładowe dane wyjściowe):**"
   ]
  },
  {
   "cell_type": "code",
   "execution_count": null,
   "metadata": {},
   "outputs": [],
   "source": [
    "import sqlite3 \n",
    "conn = sqlite3.connect(':memory:')\n",
    "c = conn.cursor()\n",
    "# Utwórz tabelę\n",
    "c.execute(\"CREATE TABLE users(id SMALLINT, name VARCHAR(30), city VARCHAR(35));\")\n",
    "print(\"Liczba rekordów przed wstawieniem wierszy:\")\n",
    "cursor = c.execute('SELECT * FROM users;')\n",
    "print(len(cursor.fetchall()))\n",
    "query = \"INSERT INTO users (id, name, city) VALUES (?, ?, ?);\"    \n",
    "# Wstaw rekordy\n",
    "rows = [(5001,'Piotr Nowak',          'Warszawa'),\n",
    "        (5002,'Anna Kowalska',        'Kraków'  ),\n",
    "        (5003,'Krzysztof Wiśniewski', 'Łódź'    ),\n",
    "        (5004,'Maria Wójcik',         'Kraków'  ),\n",
    "        (5005,'Andrzej Kowalczyk',    'Wrocław' )]\n",
    "c.executemany(query, rows)\n",
    "conn.commit()      \n",
    "print(\"Liczba rekordów po wstawieniu wierszy:\")\n",
    "cursor = c.execute('SELECT * FROM users;')\n",
    "print(len(cursor.fetchall()))\n",
    "conn.close()\n",
    "print(\"Połączenie SQLite jest zamknięte.\")"
   ]
  },
  {
   "cell_type": "markdown",
   "metadata": {},
   "source": [
    "### Wstaw wartości do tabeli z danych wejściowych użytkownika\n",
    "\n",
    "Napisz program w Pythonie, który będzie wstawiał wartości do tabeli z danych wejściowych użytkownika."
   ]
  },
  {
   "cell_type": "markdown",
   "metadata": {},
   "source": [
    "---"
   ]
  },
  {
   "cell_type": "markdown",
   "metadata": {},
   "source": [
    "**Kod Pythona (przykładowe rozwiązanie i przykładowe dane wyjściowe):**"
   ]
  },
  {
   "cell_type": "code",
   "execution_count": null,
   "metadata": {},
   "outputs": [],
   "source": [
    "import sqlite3\n",
    "conn = sqlite3.connect(':memory:')\n",
    "c  = conn.cursor()\n",
    "# Utwórz tabelę użytkowników \n",
    "c.execute(\"CREATE TABLE users(id SMALLINT, name VARCHAR(30), city VARCHAR(35));\")\n",
    "input_id = input('ID:')\n",
    "input_name = input('Name:')\n",
    "input_city = input('City:')\n",
    "c.execute(\"INSERT INTO users(id, name, city) VALUES (?,?,?)\", (input_id, input_name, input_city))\n",
    "conn.commit()\n",
    "print('Dane wprowadzone pomyślnie.')\n",
    "conn.close()\n",
    "print(\"Połączenie SQLite jest zamknięte.\")"
   ]
  },
  {
   "cell_type": "markdown",
   "metadata": {},
   "source": [
    "### Zaktualizuj określoną wartość kolumny w danej tabeli\n",
    "\n",
    "Napisz program w Pythonie, aby zaktualizować określoną wartość kolumny w danej tabeli i wybrać/wyświetlić w pętli wszystkie wiersze przed i po aktualizacji tej tabeli."
   ]
  },
  {
   "cell_type": "markdown",
   "metadata": {},
   "source": [
    "---"
   ]
  },
  {
   "cell_type": "markdown",
   "metadata": {},
   "source": [
    "**Kod Pythona (przykładowe rozwiązanie i przykładowe dane wyjściowe):**"
   ]
  },
  {
   "cell_type": "code",
   "execution_count": null,
   "metadata": {},
   "outputs": [],
   "source": [
    "import sqlite3 \n",
    "conn = sqlite3.connect(':memory:')\n",
    "c = conn.cursor()\n",
    "# Utwórz tabelę\n",
    "c.execute(\"CREATE TABLE users(id SMALLINT, name VARCHAR(30), city VARCHAR(35));\")\n",
    "query = \"INSERT INTO users (id, name, city) VALUES (?, ?, ?);\"    \n",
    "# Wstaw rekordy\n",
    "rows = [(5001,'Piotr Nowak',          'Warszawa'),\n",
    "        (5002,'Anna Kowalska',        'Kraków'  ),\n",
    "        (5003,'Krzysztof Wiśniewski', 'Łódź'    ),\n",
    "        (5004,'Maria Wójcik',         'Kraków'  ),\n",
    "        (5005,'Andrzej Kowalczyk',    'Wrocław' )]\n",
    "c.executemany(query, rows)\n",
    "conn.commit()      \n",
    "rows = c.execute('SELECT * FROM users;')\n",
    "rows = c.fetchall()\n",
    "print(\"Dane użytkowników:\")\n",
    "for row in rows:\n",
    "    print(row)\n",
    "print(\"Zaktualizuj miasto Łódź do Poznania, gdzie id to 5003:\")\n",
    "c.execute('UPDATE users SET city = \"Poznań\" WHERE id = 5003;')\n",
    "print(\"Rekord zaktualizowany pomyślnie.\")   \n",
    "rows = c.execute('SELECT * FROM users;')\n",
    "rows = c.fetchall()\n",
    "print(\"Po zaktualizowaniu danych użytkowników:\")\n",
    "for row in rows:\n",
    "    print(row)\n",
    "conn.close()\n",
    "print(\"Połączenie SQLite jest zamknięte.\")"
   ]
  },
  {
   "cell_type": "markdown",
   "metadata": {},
   "source": [
    "### Usuń określony wiersz z podanej tabeli SQLite\n",
    "\n",
    "Napisz program w Pythonie, aby usunąć określony (danymi wejściowymi uzytkownika) wiersz z podanej tabeli SQLite i wybrać/wyświetlić w pętli wszystkie wiersze przed i po aktualizacji tej tabeli."
   ]
  },
  {
   "cell_type": "markdown",
   "metadata": {},
   "source": [
    "---"
   ]
  },
  {
   "cell_type": "markdown",
   "metadata": {},
   "source": [
    "**Kod Pythona (przykładowe rozwiązanie i przykładowe dane wyjściowe):**"
   ]
  },
  {
   "cell_type": "code",
   "execution_count": null,
   "metadata": {},
   "outputs": [],
   "source": [
    "import sqlite3 \n",
    "conn = sqlite3.connect(':memory:')\n",
    "c = conn.cursor()\n",
    "# Utwórz tabelę\n",
    "c.execute(\"CREATE TABLE users(id SMALLINT, name VARCHAR(30), city VARCHAR(35));\")\n",
    "query = \"INSERT INTO users (id, name, city) VALUES (?, ?, ?);\"    \n",
    "# Wstaw rekordy\n",
    "rows = [(5001,'Piotr Nowak',          'Warszawa'),\n",
    "        (5002,'Anna Kowalska',        'Kraków'  ),\n",
    "        (5003,'Krzysztof Wiśniewski', 'Łódź'    ),\n",
    "        (5004,'Maria Wójcik',         'Kraków'  ),\n",
    "        (5005,'Andrzej Kowalczyk',    'Wrocław' )]\n",
    "c.executemany(query, rows)\n",
    "conn.commit()      \n",
    "rows = c.execute('SELECT * FROM users;')\n",
    "rows = c.fetchall()\n",
    "print(\"Dane użytkowników:\")\n",
    "for row in rows:\n",
    "    print(row)\n",
    "input_id = input('ID:')\n",
    "print(\"Usuń użytkownika o ID\", input_id, \":\")\n",
    "c.execute('DELETE FROM users WHERE id = ?;', (input_id,))\n",
    "conn.commit()\n",
    "print(\"Rekord zaktualizowany pomyślnie.\")   \n",
    "rows = c.execute('SELECT * FROM users;')\n",
    "rows = c.fetchall()\n",
    "print(\"Po zaktualizowaniu danych użytkowników:\")\n",
    "for row in rows:\n",
    "    print(row)\n",
    "conn.close()\n",
    "print(\"Połączenie SQLite jest zamknięte.\")"
   ]
  },
  {
   "cell_type": "markdown",
   "metadata": {},
   "source": [
    "## [Test](https://www.w3schools.com/sql/sql_quiz.asp)\n",
    "\n",
    "Możesz sprawdzić swoje umiejętności SQL w Quizie.\n",
    "\n",
    "Test zawiera 25 pytań i nie ma ograniczenia czasowego.\n",
    "\n",
    "Test nie jest oficjalny, jest po prostu przyjemnym sposobem sprawdzenia, ile wiesz lub nie wiesz o SQL."
   ]
  },
  {
   "cell_type": "markdown",
   "metadata": {},
   "source": [
    "## Materiały dodatkowe\n",
    "\n",
    "* [SQL e-learning](http://zasoby.open.agh.edu.pl/~11smdrobniak/)\n",
    "* [Podstawy baz danych z encyklopedią SQL](http://zasoby.open.agh.edu.pl/~09seenglert/)\n",
    "* [MySQL - podstawy](http://www.galaxy.agh.edu.pl/~pamalino/programowanie/mysql/)\n",
    "* [SQL](https://github.com/pkociepka/sql)"
   ]
  },
  {
   "cell_type": "code",
   "execution_count": null,
   "metadata": {},
   "outputs": [],
   "source": []
  }
 ],
 "metadata": {
  "kernelspec": {
   "display_name": "Python 3",
   "language": "python",
   "name": "python3"
  },
  "language_info": {
   "codemirror_mode": {
    "name": "ipython",
    "version": 3
   },
   "file_extension": ".py",
   "mimetype": "text/x-python",
   "name": "python",
   "nbconvert_exporter": "python",
   "pygments_lexer": "ipython3",
   "version": "3.8.3"
  }
 },
 "nbformat": 4,
 "nbformat_minor": 4
}
