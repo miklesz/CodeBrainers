{
 "cells": [
  {
   "cell_type": "markdown",
   "metadata": {},
   "source": [
    "![](https://media-exp1.licdn.com/dms/image/C4D0BAQHUQWhqV2rl1g/company-logo_200_200/0/1550502396615?e=2159024400&v=beta&t=_mM0D3cbDu8DL3MUvcb75g65zJ-c4Wd0nrguJGoW_gE)"
   ]
  },
  {
   "cell_type": "markdown",
   "metadata": {},
   "source": [
    "# Python (OOP) - modelowanie (zaimplementuj zwięrzątko Tamagotchi)"
   ]
  },
  {
   "cell_type": "markdown",
   "metadata": {},
   "source": [
    "_Mikołaj Leszczuk_\n",
    "\n",
    "![](https://pics.awwmemes.com/its-only-a-model-memegenerator-net-its-only-a-model-52664171.png)"
   ]
  },
  {
   "cell_type": "markdown",
   "metadata": {},
   "source": [
    "## Ćwiczenie"
   ]
  },
  {
   "cell_type": "markdown",
   "metadata": {},
   "source": [
    "[Tamagotchi](https://pl.wikipedia.org/wiki/Tamagotchi) to mała, elektroniczna zabawka pozwalająca \"opiekować się\" zwierzakiem. Tamagotchi wymaga karmienia, zabawy, czy sprzątania po nim.\n",
    "\n",
    "Zasady Tamagotchi:\n",
    "\n",
    "1. humor określa się na podstawie licznika głodu i znudzenia; dopóki głód jest poniżej określonego poziomu, i dopóki znudzenie jest poniżej określonego poziomu, dopóty Tamagotchi jest szczęśliwy\n",
    "1. karmienie zmniejsza poziom głodu o określoną liczbę punktów\n",
    "1. nauka nowych słówek lub przywitanie się z Tamagotchi zmniejsza poziom znudzenia o określoną liczbę punktów\n",
    "1. znane słówka są listą wyrażeń, które Tamagotchi może wypowiedzieć (np. \"Mmmmrrp\" albo \"Hrrp\")\n",
    "1. można wywołać metodę, która odpowiada \"tyknięciu\" zegara - w jej wyniku nuda i głód rosną o jedną jednostkę\n",
    "\n",
    "Implementacja Tamagotchi:\n",
    "\n",
    "1. pola klasy: `imie`, `prog_nudy`, `prog_glodu`, `malenie_nudy`, `malenie_glodu`, `poziom_nudy`, `poziom_glodu`, `slowa` (lista)\n",
    "1. metoda `humor()` musi zwracać, na podstawie `prog_nudy`, `prog_glodu`, `poziom_nudy` i `poziom_glodu`, czy Tamagotchi jest szczęśliwy, głodny lub znudzony\n",
    "1. metoda `__str__()` musi zwracać imię Tamagotchi i jego humor (np. \"Jestem Tobi. Czuję się szczęśliwy.\")\n",
    "1. metoda `zegar()` musi zwiększać poziom znudzenia i głodu o jedną jednostkę\n",
    "1. metody `zmniejsz_glod()` i `zmniejsz_nude()` mają zmniejszać odpowiednio `poziom_glodu` i `poziom_nudy` o `malenie_glodu` i `malenie_nudy`; **uwaga**: oba poziomy nie mogą spaść poniżej zera\n",
    "1. metoda `przywitaj_sie()` musi wylosować element z listy `slowa`, zmniejszyć nudę i wypisać na ekranie \"{Imię} mówi {słowo}.\"\n",
    "1. metoda `naucz_slowo(slowo)` dodaje słowo do listy `slowa` i zmniejsza nudę\n",
    "1. metoda `karm()` zmniejsza głód\n",
    "1. metody `karm()`, `naucz_slowo()`, `przywitaj_sie()` oraz `__str__()` wywołują `zegar()`.\n",
    "\n",
    "Do losowania elementu z listy `slowa` użyj funkcji `random.choice`.\n",
    "\n",
    "Za wartości początkowe możesz przyjąć:\n",
    "\n",
    "| Pole            | Wartość               |\n",
    "|-----------------|-----------------------|\n",
    "| `prog_nudy`     | 5                     |\n",
    "| `prog_glodu`    | 10                    |\n",
    "| `malenie_nudy`  | 4                     |\n",
    "| `malenie_glodu` | 6                     |\n",
    "| `słowa`         | `[\"Mmmmrrp\", \"Hrrp\"]` |"
   ]
  },
  {
   "cell_type": "markdown",
   "metadata": {},
   "source": [
    "## Rozwiązanie"
   ]
  },
  {
   "cell_type": "code",
   "execution_count": 1,
   "metadata": {},
   "outputs": [],
   "source": [
    "import random\n",
    "\n",
    "\n",
    "class Tamagotchi:\n",
    "    prog_nudy = 5\n",
    "    prog_glodu = 10\n",
    "    malenie_nudy = 4\n",
    "    malenie_glodu = 6\n",
    "\n",
    "    def __init__(self, imie):\n",
    "        self.imie = imie\n",
    "        self.slowa = [\"Mmmmrrp\", \"Hrrp\"]\n",
    "        self.poziom_glodu = 0\n",
    "        self.poziom_nudy = 0\n",
    "\n",
    "    def humor(self):\n",
    "        if self.poziom_glodu > self.prog_glodu:\n",
    "            return \"głodny\"\n",
    "        elif self.poziom_nudy > self.prog_nudy:\n",
    "            return \"znudzony\"\n",
    "        else:\n",
    "            return \"szczęśliwy\"\n",
    "\n",
    "    def __str__(self):\n",
    "        # kolejność jest ważna!\n",
    "        # ponieważ self.zegar() może zmienić stan (głodny/znudzony) zwierzaka,\n",
    "        # dlatego fajnie jeśli ten stan wyświetlimy\n",
    "        self.zegar()\n",
    "        return \"Jestem {}. Czuję się {}.\".format(self.imie, self.humor())\n",
    "\n",
    "    def zegar(self):\n",
    "        self.poziom_glodu += 1\n",
    "        self.poziom_nudy += 1\n",
    "\n",
    "    def zmniejsz_glod(self):\n",
    "        self.poziom_glodu -= self.malenie_glodu\n",
    "        if self.poziom_glodu < 0:\n",
    "            self.poziom_glodu = 0\n",
    "\n",
    "    def zmniejsz_nude(self):\n",
    "        self.poziom_nudy -= self.malenie_nudy\n",
    "        if self.poziom_nudy < 0:\n",
    "            self.poziom_nudy = 0\n",
    "\n",
    "    def przywitaj_sie(self):\n",
    "        slowo = random.choice(self.slowa)\n",
    "        print(\"{} mówi {}.\".format(self.imie, slowo))\n",
    "        self.zmniejsz_nude()\n",
    "        self.zegar()\n",
    "\n",
    "    def naucz_slowo(self, slowo):\n",
    "        self.slowa.append(slowo)\n",
    "        self.zmniejsz_nude()\n",
    "        self.zegar()\n",
    "\n",
    "    def karm(self):\n",
    "        self.zmniejsz_glod()\n",
    "        self.zegar()"
   ]
  },
  {
   "cell_type": "code",
   "execution_count": null,
   "metadata": {},
   "outputs": [],
   "source": []
  }
 ],
 "metadata": {
  "kernelspec": {
   "display_name": "Python 3",
   "language": "python",
   "name": "python3"
  },
  "language_info": {
   "codemirror_mode": {
    "name": "ipython",
    "version": 3
   },
   "file_extension": ".py",
   "mimetype": "text/x-python",
   "name": "python",
   "nbconvert_exporter": "python",
   "pygments_lexer": "ipython3",
   "version": "3.8.3"
  }
 },
 "nbformat": 4,
 "nbformat_minor": 4
}
