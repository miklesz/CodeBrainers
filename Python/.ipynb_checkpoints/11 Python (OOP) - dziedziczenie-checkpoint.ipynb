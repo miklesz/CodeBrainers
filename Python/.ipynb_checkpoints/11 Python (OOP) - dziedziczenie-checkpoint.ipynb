{
 "cells": [
  {
   "cell_type": "markdown",
   "metadata": {},
   "source": [
    "![](https://media-exp1.licdn.com/dms/image/C4D0BAQHUQWhqV2rl1g/company-logo_200_200/0/1550502396615?e=2159024400&v=beta&t=_mM0D3cbDu8DL3MUvcb75g65zJ-c4Wd0nrguJGoW_gE)"
   ]
  },
  {
   "cell_type": "markdown",
   "metadata": {},
   "source": [
    "# Python (OOP) - dziedziczenie (ang. *inheritance*)"
   ]
  },
  {
   "cell_type": "markdown",
   "metadata": {},
   "source": [
    "_Mikołaj Leszczuk_"
   ]
  },
  {
   "cell_type": "markdown",
   "metadata": {},
   "source": [
    "![](https://pythoncodeshark.files.wordpress.com/2014/01/inheritance-meem.jpg)"
   ]
  },
  {
   "cell_type": "markdown",
   "metadata": {},
   "source": [
    "Dziedziczenie umożliwia tworzenie nowych klas, które przejmują (dziedziczą) formę i funkcjonalność klas bazowych. I tak jak dziedzic majątku może nim rozporządzać, np. doprowadzić do ruiny, tak klasy pochodne (dziedziczące) mogą rozszerzać i ulepszać funkcjonalność klas przodków.\n",
    "\n",
    "![](https://upload.wikimedia.org/wikipedia/en/3/32/Single_Inheritance.jpg)\n",
    "\n",
    "Dziedziczenie definiowane jest za pomocą składni:"
   ]
  },
  {
   "cell_type": "code",
   "execution_count": null,
   "metadata": {},
   "outputs": [],
   "source": [
    "class KlasaBazowa:\n",
    "    pass\n",
    "\n",
    "class KlasaPochodna(KlasaBazowa):\n",
    "    pass"
   ]
  },
  {
   "cell_type": "markdown",
   "metadata": {},
   "source": [
    "Przykład (na razie bez rozszerzania klasy bazowej `KontoBankowe`):"
   ]
  },
  {
   "cell_type": "code",
   "execution_count": null,
   "metadata": {},
   "outputs": [],
   "source": [
    "class KontoBankowe:\n",
    "    def __init__(self, nazwa, stan=0):\n",
    "        self.nazwa = nazwa\n",
    "        self.stan = stan\n",
    "\n",
    "    def info(self):\n",
    "        print(\"nazwa:\", self.nazwa)\n",
    "        print(\"stan:\", self.stan)\n",
    "\n",
    "    def wyplac(self, ilosc):\n",
    "        self.stan -= ilosc\n",
    "\n",
    "    def wplac(self, ilosc):\n",
    "        self.stan += ilosc\n",
    "\n",
    "\n",
    "class KontoDebetowe(KontoBankowe):\n",
    "    pass"
   ]
  },
  {
   "cell_type": "markdown",
   "metadata": {},
   "source": [
    "Rozszerzenie zachowania klasy `KontoBankowe`:"
   ]
  },
  {
   "cell_type": "code",
   "execution_count": null,
   "metadata": {},
   "outputs": [],
   "source": [
    "class KontoDebetowe(KontoBankowe):\n",
    "    def __init__(self, nazwa, stan=0, limit=0):\n",
    "        KontoBankowe.__init__(self, nazwa, stan)\n",
    "        self.limit = limit\n",
    "\n",
    "    def wyplac(self, ilosc):\n",
    "        \"\"\"Jeżeli stan konta po operacji przekroczyłby limit, przerwij.\"\"\"\n",
    "        if (self.stan - ilosc) < (-self.limit):\n",
    "            print(\"Brak srodkow na koncie\")\n",
    "        else:\n",
    "            KontoBankowe.wyplac(self, ilosc)"
   ]
  },
  {
   "cell_type": "code",
   "execution_count": null,
   "metadata": {},
   "outputs": [],
   "source": [
    "account = KontoDebetowe(\"Jan Nowak\", 0, 1000)\n",
    "account.info()\n",
    "account.wplac(500)\n",
    "account.info()\n",
    "account.wyplac(1000)\n",
    "account.info()\n",
    "account.wyplac(1000)\n",
    "account.info()"
   ]
  },
  {
   "cell_type": "markdown",
   "metadata": {},
   "source": [
    "## Super"
   ]
  },
  {
   "cell_type": "markdown",
   "metadata": {},
   "source": [
    "Aby wywołać metodę klasy bazowej, zamiast wpisywać długie wyrażenie `NazwaKlasyBazowej` można użyć metody `super()` zwracającej klasę rodzica. Jest to szczególnie przydatne jeśli zmienimy nazwę klasy bazowej, nie trzeba będzie wtedy wprowadzać zmian w klasach pochodnych. Przykład z kontem bankowym:"
   ]
  },
  {
   "cell_type": "code",
   "execution_count": null,
   "metadata": {},
   "outputs": [],
   "source": [
    "    # bylo:\n",
    "    def __init__(self, nazwa, stan=0, limit=0):\n",
    "        KontoBankowe.__init__(self, nazwa, stan)\n",
    "        self.limit = limit\n",
    "\n",
    "    # jest:\n",
    "    def __init__(self, nazwa, stan=0, limit=0):\n",
    "        super().__init__(nazwa, stan)\n",
    "        self.limit = limit"
   ]
  },
  {
   "cell_type": "code",
   "execution_count": null,
   "metadata": {},
   "outputs": [],
   "source": [
    "class KontoDebetowe(KontoBankowe):\n",
    "    def __init__(self, nazwa, stan=0, limit=0):\n",
    "        super().__init__(nazwa, stan)\n",
    "        self.limit = limit\n",
    "\n",
    "    def wyplac(self, ilosc):\n",
    "        \"\"\"Jeżeli stan konta po operacji przekroczyłby limit, przerwij.\"\"\"\n",
    "        if (self.stan - ilosc) < (-self.limit):\n",
    "            print(\"Brak srodkow na koncie\")\n",
    "        else:\n",
    "            super().wyplac(ilosc)"
   ]
  },
  {
   "cell_type": "code",
   "execution_count": null,
   "metadata": {},
   "outputs": [],
   "source": [
    "account = KontoDebetowe(\"Jan Nowak\", 0, 1000)\n",
    "account.info()\n",
    "account.wplac(500)\n",
    "account.info()\n",
    "account.wyplac(1000)\n",
    "account.info()\n",
    "account.wyplac(1000)\n",
    "account.info()"
   ]
  },
  {
   "cell_type": "markdown",
   "metadata": {},
   "source": [
    "## Wielokrotne dziedziczenie\n",
    "\n",
    "Trochę jak w prawdziwym życiu w rodzinie, klasa pochodna może mieć więcej niż jednego przodka i od każdego przodka zbierać atrybuty i metody.\n",
    "\n",
    "![](https://upload.wikimedia.org/wikipedia/en/6/69/Multiple_Inheritance.jpg)\n",
    "\n",
    "![](https://upload.wikimedia.org/wikipedia/en/0/0e/Multilevel_Inheritance.jpg)\n",
    "\n",
    "![](https://img.devrant.com/devrant/rant/r_403541_YuG5k.jpg)\n",
    "\n",
    "Przykład klasy z dwoma rodzicami:"
   ]
  },
  {
   "cell_type": "code",
   "execution_count": null,
   "metadata": {},
   "outputs": [],
   "source": [
    "class A:\n",
    "    \"\"\"Rodzic pierwszy\"\"\"\n",
    "\n",
    "    def __init__(self):\n",
    "        super().__init__()\n",
    "        self.a = \"A\"\n",
    "\n",
    "    def fa(self):\n",
    "        print(\"a:\", self.a)\n",
    "\n",
    "\n",
    "class B:\n",
    "    \"\"\"Rodzic drugi\"\"\"\n",
    "\n",
    "    def __init__(self):\n",
    "        super().__init__()\n",
    "        self.b = \"B\"\n",
    "\n",
    "    def fb(self):\n",
    "        print(\"b:\", self.b)\n",
    "\n",
    "\n",
    "class Pochodna(B, A):\n",
    "    \"\"\"Dziecko\"\"\"\n",
    "\n",
    "    def __init__(self):\n",
    "        super().__init__()"
   ]
  },
  {
   "cell_type": "markdown",
   "metadata": {},
   "source": [
    "`__doc__` - ciąg dokumentacji lub `None`, jeśli nie jest dostępny; nie dziedziczone przez podklasy."
   ]
  },
  {
   "cell_type": "code",
   "execution_count": null,
   "metadata": {},
   "outputs": [],
   "source": [
    "print(A.__doc__)\n",
    "print(B.__doc__)\n",
    "print(Pochodna.__doc__)"
   ]
  },
  {
   "cell_type": "markdown",
   "metadata": {},
   "source": [
    "Działanie:"
   ]
  },
  {
   "cell_type": "code",
   "execution_count": null,
   "metadata": {},
   "outputs": [],
   "source": [
    "d = Pochodna()"
   ]
  },
  {
   "cell_type": "code",
   "execution_count": null,
   "metadata": {},
   "outputs": [],
   "source": [
    "print(d.a)"
   ]
  },
  {
   "cell_type": "code",
   "execution_count": null,
   "metadata": {},
   "outputs": [],
   "source": [
    "print(d.b)"
   ]
  },
  {
   "cell_type": "code",
   "execution_count": null,
   "metadata": {},
   "outputs": [],
   "source": [
    "d.fa()"
   ]
  },
  {
   "cell_type": "code",
   "execution_count": null,
   "metadata": {},
   "outputs": [],
   "source": [
    "d.fb()"
   ]
  },
  {
   "cell_type": "markdown",
   "metadata": {},
   "source": [
    "Jak widać klasa `Pochodna` zawiera pola i metody od każdego z rodziców."
   ]
  },
  {
   "cell_type": "markdown",
   "metadata": {},
   "source": [
    "## Ćwiczenia"
   ]
  },
  {
   "cell_type": "markdown",
   "metadata": {},
   "source": [
    "### Figury geometryczne\n",
    "\n",
    "Stwórz klasę bazową dla figur geometrycznych:"
   ]
  },
  {
   "cell_type": "code",
   "execution_count": null,
   "metadata": {},
   "outputs": [],
   "source": [
    "import math\n",
    "\n",
    "\n",
    "class Figura:\n",
    "    def obwod(self):  # L\n",
    "        \"\"\"Obliczanie obwodu.\"\"\"\n",
    "        raise NotImplementedError\n",
    "\n",
    "    def pole(self):  # S/P\n",
    "        \"\"\"Obliczanie pola powierzchni.\"\"\"\n",
    "        raise NotImplementedError"
   ]
  },
  {
   "cell_type": "code",
   "execution_count": null,
   "metadata": {},
   "outputs": [],
   "source": [
    "f = Figura()\n",
    "f.obwod()"
   ]
  },
  {
   "cell_type": "markdown",
   "metadata": {},
   "source": [
    "Następnie zaimplementuj klasy pochodne dla następujących figur:\n",
    "\n",
    "1. Koło\n",
    "1. Trójkąt równoboczny\n",
    "1. Prostokąt\n",
    "1. Kwadrat\n",
    "1. Równoległobok\n",
    "1. Trapez prostokątny\n",
    "\n",
    "Pamiętaj o zachowaniu odpowiedniej hierarchii (dziedziczenia) oraz inicjalizacji atrybutów (np. wysokości, promienia czy długości boku) w metodzie `__init__`.\n",
    "\n",
    "Stała matematyczna π = 3,141592…, z dostępną dokładnością:"
   ]
  },
  {
   "cell_type": "code",
   "execution_count": null,
   "metadata": {},
   "outputs": [],
   "source": [
    "print(math.pi)"
   ]
  },
  {
   "cell_type": "markdown",
   "metadata": {},
   "source": [
    "#### 1. Koło"
   ]
  },
  {
   "cell_type": "markdown",
   "metadata": {},
   "source": [
    "##### Ćwiczenie"
   ]
  },
  {
   "cell_type": "markdown",
   "metadata": {},
   "source": [
    "![](https://upload.wikimedia.org/wikipedia/commons/0/03/Circle-withsegments.svg)\n",
    "![](https://wikimedia.org/api/rest_v1/media/math/render/svg/538bf78a77ecec3f84eddb43beab486a259cd87b)\n",
    "![](https://wikimedia.org/api/rest_v1/media/math/render/svg/9f5a77550dc6995f6f8557e85720f2fda1d55d52)"
   ]
  },
  {
   "cell_type": "markdown",
   "metadata": {},
   "source": [
    "##### Rozwiązanie"
   ]
  },
  {
   "cell_type": "code",
   "execution_count": null,
   "metadata": {},
   "outputs": [],
   "source": [
    "class Kolo(Figura):\n",
    "    def __init__(self, r):\n",
    "        self.r = r\n",
    "\n",
    "    def obwod(self):\n",
    "        return 2 * math.pi * self.r\n",
    "\n",
    "    def pole(self):\n",
    "        return math.pi * self.r ** 2"
   ]
  },
  {
   "cell_type": "code",
   "execution_count": null,
   "metadata": {},
   "outputs": [],
   "source": [
    "f1 = Kolo(5)"
   ]
  },
  {
   "cell_type": "code",
   "execution_count": null,
   "metadata": {},
   "outputs": [],
   "source": [
    "print(f1.obwod())"
   ]
  },
  {
   "cell_type": "code",
   "execution_count": null,
   "metadata": {},
   "outputs": [],
   "source": [
    "print(f1.pole())"
   ]
  },
  {
   "cell_type": "markdown",
   "metadata": {},
   "source": [
    "#### 2. Trójkąt równoboczny"
   ]
  },
  {
   "cell_type": "markdown",
   "metadata": {},
   "source": [
    "##### Ćwiczenie"
   ]
  },
  {
   "cell_type": "markdown",
   "metadata": {},
   "source": [
    "![](https://upload.wikimedia.org/wikipedia/commons/f/fc/Equilateral_Triangle.svg)\n",
    "![](https://wikimedia.org/api/rest_v1/media/math/render/svg/dd90b00dbe4d139f034b10dfe180eb52e51302cf)\n",
    "![](https://wikimedia.org/api/rest_v1/media/math/render/svg/008fa2bf38bf91f153b215b2a25256765a76a6b6)"
   ]
  },
  {
   "cell_type": "markdown",
   "metadata": {},
   "source": [
    "##### Rozwiązanie"
   ]
  },
  {
   "cell_type": "code",
   "execution_count": null,
   "metadata": {},
   "outputs": [],
   "source": [
    "class TrojkatRownoboczny(Figura):\n",
    "    def __init__(self, a):\n",
    "        self.a = a\n",
    "        self.h = 0.5 * a * math.sqrt(3)\n",
    "\n",
    "    def obwod(self):\n",
    "        return 3 * self.a\n",
    "\n",
    "    def pole(self):\n",
    "        return 0.5 * self.a * self.h"
   ]
  },
  {
   "cell_type": "code",
   "execution_count": null,
   "metadata": {},
   "outputs": [],
   "source": [
    "f2 = TrojkatRownoboczny(5)"
   ]
  },
  {
   "cell_type": "code",
   "execution_count": null,
   "metadata": {},
   "outputs": [],
   "source": [
    "print(f2.obwod())"
   ]
  },
  {
   "cell_type": "code",
   "execution_count": null,
   "metadata": {
    "scrolled": true
   },
   "outputs": [],
   "source": [
    "print(f2.pole())"
   ]
  },
  {
   "cell_type": "markdown",
   "metadata": {},
   "source": [
    "#### 3. Prostokąt"
   ]
  },
  {
   "cell_type": "markdown",
   "metadata": {},
   "source": [
    "##### Ćwiczenie"
   ]
  },
  {
   "cell_type": "markdown",
   "metadata": {},
   "source": [
    "![](https://upload.wikimedia.org/wikipedia/commons/9/96/Prostokat-rectangle.svg)\n",
    "![](https://wikimedia.org/api/rest_v1/media/math/render/svg/570b1905a72d91a6a30a4b96b59cb61cb2e83ce5)\n",
    "![](https://wikimedia.org/api/rest_v1/media/math/render/svg/b55ea3625c718c1700fda4b390485947f29934c2)"
   ]
  },
  {
   "cell_type": "markdown",
   "metadata": {},
   "source": [
    "##### Rozwiązanie"
   ]
  },
  {
   "cell_type": "code",
   "execution_count": null,
   "metadata": {},
   "outputs": [],
   "source": [
    "class Prostokat(Figura):\n",
    "    def __init__(self, a, b):\n",
    "        self.a = a\n",
    "        self.b = b\n",
    "\n",
    "    def obwod(self):\n",
    "        return 2 * (self.a + self.b)\n",
    "\n",
    "    def pole(self):\n",
    "        return self.a * self.b"
   ]
  },
  {
   "cell_type": "code",
   "execution_count": null,
   "metadata": {},
   "outputs": [],
   "source": [
    "f3 = Prostokat(2, 5)"
   ]
  },
  {
   "cell_type": "code",
   "execution_count": null,
   "metadata": {},
   "outputs": [],
   "source": [
    "print(f3.obwod())"
   ]
  },
  {
   "cell_type": "code",
   "execution_count": null,
   "metadata": {
    "scrolled": true
   },
   "outputs": [],
   "source": [
    "print(f3.pole())"
   ]
  },
  {
   "cell_type": "markdown",
   "metadata": {},
   "source": [
    "#### 4. Kwadrat"
   ]
  },
  {
   "cell_type": "markdown",
   "metadata": {},
   "source": [
    "##### Ćwiczenie"
   ]
  },
  {
   "cell_type": "markdown",
   "metadata": {},
   "source": [
    "![](https://upload.wikimedia.org/wikipedia/commons/1/1a/In_square.png)\n",
    "![](https://wikimedia.org/api/rest_v1/media/math/render/svg/22ba22f961bb6821bbfedec682f6b4d862b3eddb)\n",
    "![](https://wikimedia.org/api/rest_v1/media/math/render/svg/939ffe659fc6dc88667915213a2a5e23ce27c84f)"
   ]
  },
  {
   "cell_type": "markdown",
   "metadata": {},
   "source": [
    "##### Rozwiązanie"
   ]
  },
  {
   "cell_type": "code",
   "execution_count": null,
   "metadata": {},
   "outputs": [],
   "source": [
    "class Kwadrat(Prostokat):\n",
    "    def __init__(self, a):\n",
    "        self.a = a\n",
    "        # trik, dzięki któremu możemy dziedziczyć wprost\n",
    "        # z prostokąta i nie musimy wypełniać metod `obwod` i `pole`\n",
    "        self.b = a"
   ]
  },
  {
   "cell_type": "code",
   "execution_count": null,
   "metadata": {},
   "outputs": [],
   "source": [
    "f4 = Kwadrat(5)"
   ]
  },
  {
   "cell_type": "code",
   "execution_count": null,
   "metadata": {},
   "outputs": [],
   "source": [
    "print(f4.obwod())"
   ]
  },
  {
   "cell_type": "code",
   "execution_count": null,
   "metadata": {},
   "outputs": [],
   "source": [
    "print(f4.pole())"
   ]
  },
  {
   "cell_type": "markdown",
   "metadata": {},
   "source": [
    "#### 5. Równoległobok"
   ]
  },
  {
   "cell_type": "markdown",
   "metadata": {},
   "source": [
    "##### Ćwiczenie"
   ]
  },
  {
   "cell_type": "markdown",
   "metadata": {},
   "source": [
    "![](https://upload.wikimedia.org/wikipedia/commons/b/be/Równoległobok.png)\n",
    "![](https://wikimedia.org/api/rest_v1/media/math/render/svg/103619ee02e061d20aded35d00cce677d83777a8)\n",
    "![](https://wikimedia.org/api/rest_v1/media/math/render/svg/407035bb1091fab5fd404263d116b30c9094ab90)"
   ]
  },
  {
   "cell_type": "markdown",
   "metadata": {},
   "source": [
    "##### Rozwiązanie"
   ]
  },
  {
   "cell_type": "code",
   "execution_count": null,
   "metadata": {},
   "outputs": [],
   "source": [
    "class Rownoleglobok(Figura):\n",
    "    def __init__(self, a, b, h):\n",
    "        # inny sposób przypisywania zmiennych\n",
    "        # trochę skraca ilość linii\n",
    "        self.a, self.b, self.h = a, b, h\n",
    "\n",
    "    def obwod(self):\n",
    "        return 2 * (self.a + self.b)\n",
    "\n",
    "    def pole(self):\n",
    "        return self.a * self.h"
   ]
  },
  {
   "cell_type": "code",
   "execution_count": null,
   "metadata": {},
   "outputs": [],
   "source": [
    "f5 = Rownoleglobok(2, 4, 3)"
   ]
  },
  {
   "cell_type": "code",
   "execution_count": null,
   "metadata": {},
   "outputs": [],
   "source": [
    "print(f5.obwod())"
   ]
  },
  {
   "cell_type": "code",
   "execution_count": null,
   "metadata": {},
   "outputs": [],
   "source": [
    "print(f5.pole())"
   ]
  },
  {
   "cell_type": "markdown",
   "metadata": {},
   "source": [
    "#### 6. Trapez prostokątny"
   ]
  },
  {
   "cell_type": "markdown",
   "metadata": {},
   "source": [
    "##### Ćwiczenie"
   ]
  },
  {
   "cell_type": "markdown",
   "metadata": {},
   "source": [
    "![](https://upload.wikimedia.org/wikipedia/commons/thumb/1/11/Trapezoid.svg/2000px-Trapezoid.svg.png)\n",
    "![](https://upload.wikimedia.org/wikipedia/commons/thumb/4/48/Trapezoid_right-angled.svg/2000px-Trapezoid_right-angled.svg.png)\n",
    "![](https://wikimedia.org/api/rest_v1/media/math/render/svg/1a4014369cf2d0485beb70f64a4c50ff1ffbd482)"
   ]
  },
  {
   "cell_type": "markdown",
   "metadata": {},
   "source": [
    "##### Rozwiązanie"
   ]
  },
  {
   "cell_type": "code",
   "execution_count": null,
   "metadata": {},
   "outputs": [],
   "source": [
    "class TrapezProstokatny(Figura):\n",
    "    def __init__(self, a, b, h):\n",
    "        self.a, self.b, self.h = a, b, h\n",
    "\n",
    "        # czwarty bok (self.c) obliczamy z Pitagorasa\n",
    "        d = b - a\n",
    "        self.c = (h ** 2 + d ** 2) ** 0.5\n",
    "\n",
    "    def obwod(self):\n",
    "        return sum([self.a, self.b, self.c, self.h])\n",
    "\n",
    "    def pole(self):\n",
    "        return 0.5 * (self.a + self.b) * self.h"
   ]
  },
  {
   "cell_type": "code",
   "execution_count": null,
   "metadata": {},
   "outputs": [],
   "source": [
    "f6 = TrapezProstokatny(2, 4, 3)"
   ]
  },
  {
   "cell_type": "code",
   "execution_count": null,
   "metadata": {},
   "outputs": [],
   "source": [
    "f6.obwod()"
   ]
  },
  {
   "cell_type": "code",
   "execution_count": null,
   "metadata": {
    "scrolled": true
   },
   "outputs": [],
   "source": [
    "f6.pole()"
   ]
  },
  {
   "cell_type": "markdown",
   "metadata": {},
   "source": [
    "### Utwórz podrzędną klasę `Bus`, która odziedziczy wszystkie zmienne i metody klasy `Vehicle`"
   ]
  },
  {
   "cell_type": "markdown",
   "metadata": {},
   "source": [
    "#### Ćwiczenie"
   ]
  },
  {
   "cell_type": "markdown",
   "metadata": {},
   "source": [
    "Utwórz obiekt `Bus`, który odziedziczy wszystkie zmienne i metody klasy `Vehicle` i wyświetli je.\n",
    "\n",
    "Dane wejściowe:"
   ]
  },
  {
   "cell_type": "code",
   "execution_count": null,
   "metadata": {},
   "outputs": [],
   "source": [
    "class Vehicle:\n",
    "\n",
    "    def __init__(self, name, max_speed, mileage):\n",
    "        self.name = name\n",
    "        self.max_speed = max_speed\n",
    "        self.mileage = mileage"
   ]
  },
  {
   "cell_type": "markdown",
   "metadata": {},
   "source": [
    "Oczekiwany wynik:"
   ]
  },
  {
   "cell_type": "markdown",
   "metadata": {},
   "source": [
    "```\n",
    "Nazwa pojazdu: Szkolne Volvo Prędkość: 180 Przebieg: 12\n",
    "```"
   ]
  },
  {
   "cell_type": "markdown",
   "metadata": {},
   "source": [
    "#### Rozwiązanie"
   ]
  },
  {
   "cell_type": "code",
   "execution_count": null,
   "metadata": {},
   "outputs": [],
   "source": [
    "class Vehicle:\n",
    "\n",
    "    def __init__(self, name, max_speed, mileage):\n",
    "        self.name = name\n",
    "        self.max_speed = max_speed\n",
    "        self.mileage = mileage\n",
    "\n",
    "class Bus(Vehicle):\n",
    "    pass"
   ]
  },
  {
   "cell_type": "code",
   "execution_count": null,
   "metadata": {},
   "outputs": [],
   "source": [
    "School_bus = Bus(\"Szkolne Volvo\", 180, 12)"
   ]
  },
  {
   "cell_type": "code",
   "execution_count": null,
   "metadata": {},
   "outputs": [],
   "source": [
    "print(\"Nazwa pojazdu:\", School_bus.name, \"Prędkość:\", School_bus.max_speed, \"Przebieg:\", School_bus.mileage)"
   ]
  },
  {
   "cell_type": "markdown",
   "metadata": {},
   "source": [
    "### Dziedziczenie klas"
   ]
  },
  {
   "cell_type": "markdown",
   "metadata": {},
   "source": [
    "#### Ćwiczenie"
   ]
  },
  {
   "cell_type": "markdown",
   "metadata": {},
   "source": [
    "Utwórz klasę `Bus`, która dziedziczy po klasie `Vehicle`. Podaj argument pojemności w metodzie `Bus.seating_capacity()` o domyślnej wartości `50`.\n",
    "\n",
    "Dane wejściowe:\n",
    "\n",
    "Użyj poniższego kodu dla swojej nadrzędnej klasy `Vehicle`. Musisz przesłonić/nadpisać metodę - w klasie pochodnej na specyficznie zaimplementować metodę która została już zdefiniowana w klasie bazowej."
   ]
  },
  {
   "cell_type": "code",
   "execution_count": null,
   "metadata": {},
   "outputs": [],
   "source": [
    "class Vehicle:\n",
    "    def __init__(self, name, max_speed, mileage):\n",
    "        self.name = name\n",
    "        self.max_speed = max_speed\n",
    "        self.mileage = mileage\n",
    "\n",
    "    def seating_capacity(self, capacity):\n",
    "        return f\"Liczba miejsc siedzących w {self.name} to {capacity} pasażerów\""
   ]
  },
  {
   "cell_type": "code",
   "execution_count": null,
   "metadata": {},
   "outputs": [],
   "source": [
    "School_vehicle = Vehicle(\"Szkolne Volvo\", 180, 12)"
   ]
  },
  {
   "cell_type": "code",
   "execution_count": null,
   "metadata": {},
   "outputs": [],
   "source": [
    "print(School_vehicle.seating_capacity(100))"
   ]
  },
  {
   "cell_type": "code",
   "execution_count": null,
   "metadata": {},
   "outputs": [],
   "source": [
    "print(School_vehicle.seating_capacity())  # Brak domyślnej wartości"
   ]
  },
  {
   "cell_type": "markdown",
   "metadata": {},
   "source": [
    "Oczekiwany wynik:"
   ]
  },
  {
   "cell_type": "markdown",
   "metadata": {},
   "source": [
    "```\n",
    "Liczba miejsc siedzących w Szkolne Volvo to 50 pasażerów\n",
    "```"
   ]
  },
  {
   "cell_type": "markdown",
   "metadata": {},
   "source": [
    "#### Rozwiązanie"
   ]
  },
  {
   "cell_type": "code",
   "execution_count": null,
   "metadata": {},
   "outputs": [],
   "source": [
    "class Vehicle:\n",
    "    def __init__(self, name, max_speed, mileage):\n",
    "        self.name = name\n",
    "        self.max_speed = max_speed\n",
    "        self.mileage = mileage\n",
    "\n",
    "    def seating_capacity(self, capacity):\n",
    "        return f\"Liczba miejsc siedzących w {self.name} to {capacity} pasażerów\"\n",
    "\n",
    "class Bus(Vehicle):\n",
    "    def seating_capacity(self, capacity=50):\n",
    "        return super().seating_capacity(capacity)"
   ]
  },
  {
   "cell_type": "code",
   "execution_count": null,
   "metadata": {},
   "outputs": [],
   "source": [
    "School_bus = Bus(\"Szkolne Volvo\", 180, 12)"
   ]
  },
  {
   "cell_type": "code",
   "execution_count": null,
   "metadata": {},
   "outputs": [],
   "source": [
    "print(School_bus.seating_capacity())"
   ]
  },
  {
   "cell_type": "markdown",
   "metadata": {},
   "source": [
    "### Zdefiniuj atrybut (właściwość), który powinna mieć taką samą wartość dla każdej instancji klasy"
   ]
  },
  {
   "cell_type": "markdown",
   "metadata": {},
   "source": [
    "#### Ćwiczenie"
   ]
  },
  {
   "cell_type": "markdown",
   "metadata": {},
   "source": [
    "Zdefiniuj atrybut klasy „**`color`**” z domyślną wartością **`biały`**. Oznacza to, że każdy **`Vehicle`** (**pojazd**) powinien być biały.\n",
    "\n",
    "Użyj poniższego kodu do tego ćwiczenia."
   ]
  },
  {
   "cell_type": "code",
   "execution_count": null,
   "metadata": {},
   "outputs": [],
   "source": [
    "class Vehicle:\n",
    "\n",
    "    def __init__(self, name, max_speed, mileage):\n",
    "        self.name = name\n",
    "        self.max_speed = max_speed\n",
    "        self.mileage = mileage\n",
    "\n",
    "class Bus(Vehicle):\n",
    "    pass\n",
    "\n",
    "class Car(Vehicle):\n",
    "    pass\n",
    "\n"
   ]
  },
  {
   "cell_type": "markdown",
   "metadata": {},
   "source": [
    "Oczekiwany wynik:"
   ]
  },
  {
   "cell_type": "markdown",
   "metadata": {},
   "source": [
    "```\n",
    "Kolor: Biały, Nazwa pojazdu: Szkolne Volvo, Prędkość: 180, Przebieg: 12\n",
    "Kolor: Biały, Nazwa pojazdu: Audi Q5, Prędkość: 240, Przebieg: 18\n",
    "```"
   ]
  },
  {
   "cell_type": "markdown",
   "metadata": {},
   "source": [
    "#### Rozwiązanie"
   ]
  },
  {
   "cell_type": "markdown",
   "metadata": {},
   "source": [
    "Zmienne utworzone w `.__init__()` nazywane są zmiennymi instancji. Wartość zmiennej instancji jest specyficzna dla konkretnego wystąpienia klasy. Na przykład w rozwiązaniu obiekty wszystkie obiekty `Vehicle` mają `name` i `max_speed`, ale wartości zmiennych `name` i `max_speed` będą się różnić w zależności od instancji `Vehicle`.\n",
    "\n",
    "Z drugiej strony **atrybuty klasy to atrybuty, które mają tę samą wartość dla wszystkich instancji klas**. Możesz zdefiniować atrybut klasy, przypisując wartość do nazwy zmiennej poza `.__init__()`."
   ]
  },
  {
   "cell_type": "code",
   "execution_count": null,
   "metadata": {},
   "outputs": [],
   "source": [
    "class Vehicle:\n",
    "    # Atrybut klasy\n",
    "    color = \"Biały\"\n",
    "\n",
    "    def __init__(self, name, max_speed, mileage):\n",
    "        self.name = name\n",
    "        self.max_speed = max_speed\n",
    "        self.mileage = mileage\n",
    "\n",
    "class Bus(Vehicle):\n",
    "    pass\n",
    "\n",
    "class Car(Vehicle):\n",
    "    pass\n",
    "\n",
    "School_bus = Bus(\"Szkolne Volvo\", 180, 12)\n",
    "print(School_bus.color, School_bus.name, \"Prędkość:\", School_bus.max_speed, \"Przebieg:\", School_bus.mileage)\n",
    "\n",
    "car = Car(\"Audi Q5\", 240, 18)\n",
    "print(car.color, car.name, \"Prędkość:\", car.max_speed, \"Przebieg:\", car.mileage)\n",
    "\n"
   ]
  },
  {
   "cell_type": "markdown",
   "metadata": {},
   "source": [
    "### Dziedziczenie klas"
   ]
  },
  {
   "cell_type": "markdown",
   "metadata": {},
   "source": [
    "#### Ćwiczenie"
   ]
  },
  {
   "cell_type": "markdown",
   "metadata": {},
   "source": [
    "Dane:\n",
    "\n",
    "Utwórz podrzędną klasę **`Bus`**, która dziedziczy po klasie `Vehicle`. Domyślna opłata za taryfę dowolnego pojazdu to **liczba miejsc * 100**. Jeśli `Vehicle` to instancja klasy **`Bus`**, musimy dodać dodatkowe 10% do pełnej ceny jako opłatę za utrzymanie. Tak więc łączna opłata za przejazd autobusem stanie się **ostateczną kwotą = opłata całkowita + 10% ceny całkowitej**.\n",
    "\n",
    "Uwaga: autobus może pomieścić **50** osób, więc ostateczna kwota taryfy powinna wynosić **5500**. Musisz zastąpić metodę `fare()` klasy `Vehicle` w klasie `Bus`.\n",
    "\n",
    "Użyj poniższego kodu dla swojej nadrzędnej klasy `Vehicle`. Musimy uzyskać dostęp do klasy nadrzędnej z wnętrza metody klasy potomnej."
   ]
  },
  {
   "cell_type": "code",
   "execution_count": null,
   "metadata": {},
   "outputs": [],
   "source": [
    "class Vehicle:\n",
    "    def __init__(self, name, mileage, capacity):\n",
    "        self.name = name\n",
    "        self.mileage = mileage\n",
    "        self.capacity = capacity\n",
    "\n",
    "    def fare(self):\n",
    "        return self.capacity * 100\n",
    "\n",
    "class Bus(Vehicle):\n",
    "    pass\n",
    "\n",
    "School_bus = Bus(\"Szkolne Volvo\", 12, 50)\n",
    "print(\"Całkowita opłata za przejazd autobusem wynosi:\", School_bus.fare())"
   ]
  },
  {
   "cell_type": "markdown",
   "metadata": {},
   "source": [
    "Oczekiwany wynik:"
   ]
  },
  {
   "cell_type": "markdown",
   "metadata": {},
   "source": [
    "```\n",
    "Całkowita opłata za przejazd autobusem wynosi: 5500\n",
    "```"
   ]
  },
  {
   "cell_type": "markdown",
   "metadata": {},
   "source": [
    "#### Rozwiązanie"
   ]
  },
  {
   "cell_type": "code",
   "execution_count": null,
   "metadata": {},
   "outputs": [],
   "source": [
    "class Vehicle:\n",
    "    def __init__(self, name, mileage, capacity):\n",
    "        self.name = name\n",
    "        self.mileage = mileage\n",
    "        self.capacity = capacity\n",
    "\n",
    "    def fare(self):\n",
    "        return self.capacity * 100\n",
    "\n",
    "class Bus(Vehicle):\n",
    "    def fare(self):\n",
    "        amount = super().fare()\n",
    "        amount += amount * 10 / 100\n",
    "        return amount\n",
    "\n",
    "School_bus = Bus(\"Szkolne Volvo\", 12, 50)\n",
    "print(\"Całkowita opłata za przejazd autobusem wynosi:\", School_bus.fare())\n",
    "\n"
   ]
  },
  {
   "cell_type": "markdown",
   "metadata": {},
   "source": [
    "### Określ, do której klasy należy dany obiekt `Bus` (sprawdź typ obiektu)"
   ]
  },
  {
   "cell_type": "markdown",
   "metadata": {},
   "source": [
    "#### Ćwiczenie"
   ]
  },
  {
   "cell_type": "markdown",
   "metadata": {},
   "source": [
    "Dane:"
   ]
  },
  {
   "cell_type": "code",
   "execution_count": null,
   "metadata": {},
   "outputs": [],
   "source": [
    "class Vehicle:\n",
    "    def __init__(self, name, mileage, capacity):\n",
    "        self.name = name\n",
    "        self.mileage = mileage\n",
    "        self.capacity = capacity\n",
    "\n",
    "class Bus(Vehicle):\n",
    "    pass\n",
    "\n",
    "School_bus = Bus(\"Szkolne Volvo\", 12, 50)"
   ]
  },
  {
   "cell_type": "markdown",
   "metadata": {},
   "source": [
    "#### Rozwiązanie"
   ]
  },
  {
   "cell_type": "code",
   "execution_count": null,
   "metadata": {},
   "outputs": [],
   "source": [
    "class Vehicle:\n",
    "    def __init__(self, name, mileage, capacity):\n",
    "        self.name = name\n",
    "        self.mileage = mileage\n",
    "        self.capacity = capacity\n",
    "\n",
    "class Bus(Vehicle):\n",
    "    pass\n",
    "\n",
    "School_bus = Bus(\"School Volvo\", 12, 50)\n",
    "\n",
    "# użyj wbudowanej funkcji type() w Pythonie\n",
    "print(type(School_bus))"
   ]
  },
  {
   "cell_type": "markdown",
   "metadata": {},
   "source": [
    "### Klasa `Rectangle` (kwadrat) i dziedziczona (podrzędna) klasa `Parallelepipede` (równoległościan)"
   ]
  },
  {
   "cell_type": "markdown",
   "metadata": {},
   "source": [
    "#### Ćwiczenie 1"
   ]
  },
  {
   "cell_type": "markdown",
   "metadata": {},
   "source": [
    "Napisz **klasę** (**`class`**) **`Rectangle`** w języku Python, umożliwiając zbudowanie prostokąta z atrybutami **długości** (**`length`**) i **szerokości** (**`width`**)."
   ]
  },
  {
   "cell_type": "markdown",
   "metadata": {},
   "source": [
    "#### Ćwiczenie 2"
   ]
  },
  {
   "cell_type": "markdown",
   "metadata": {},
   "source": [
    "Utwórz metodę **`Perimeter()`**, aby obliczyć obwód prostokąta i metodę **`Area()`**, aby obliczyć powierzchnię prostokąta."
   ]
  },
  {
   "cell_type": "markdown",
   "metadata": {},
   "source": [
    "#### Ćwiczenie 3"
   ]
  },
  {
   "cell_type": "markdown",
   "metadata": {},
   "source": [
    "Utwórz metodę **`display()`**, która wyświetla długość, szerokość, obwód i obszar obiektu utworzonego przy użyciu instancji klasy **`Rectangle`**."
   ]
  },
  {
   "cell_type": "markdown",
   "metadata": {},
   "source": [
    "#### Ćwiczenie 4"
   ]
  },
  {
   "cell_type": "markdown",
   "metadata": {},
   "source": [
    "Utwórz klasę potomną **`Parallelepipede`** **dziedziczącą** po **klasie** **`Rectangle`** oraz z atrybutem wysokości (**`height`**) i inną metodą **`Volume()`** w celu obliczenia objętości **równoległościanu** (**`Parallelepipede`**)."
   ]
  },
  {
   "cell_type": "markdown",
   "metadata": {},
   "source": [
    "#### Rozwiązanie"
   ]
  },
  {
   "cell_type": "code",
   "execution_count": null,
   "metadata": {},
   "outputs": [],
   "source": [
    "class Rectangle:\n",
    "    # zdefiniuj konstruktora z atrybutami: długość i szerokość \n",
    "    def __init__(self, length , width):\n",
    "        self.length = length\n",
    "        self.width = width\n",
    "        \n",
    "    # Utwórz metodę obwodu\n",
    "    def Perimeter(self):\n",
    "        return 2*(self.length + self.width)\n",
    "    \n",
    "    # Utwórz metodę powierzchniową\n",
    "    def Area(self):\n",
    "        return self.length*self.width   \n",
    "    \n",
    "    # utwórz metodę wyświetlania\n",
    "    def display(self):\n",
    "        print(\"Długość prostokąta to: \", self.length)\n",
    "        print(\"Szerokość prostokąta to: \", self.width)\n",
    "        print(\"Obwód prostokąta to: \", self.Perimeter())\n",
    "        print(\"Pole prostokąta to: \", self.Area())\n",
    "class Parallelepipede(Rectangle):\n",
    "    def __init__(self, length, width , height):\n",
    "        Rectangle.__init__(self, length, width)\n",
    "        self.height = height\n",
    "        \n",
    "    # zdefiniować metodę objętościową\n",
    "    def volume(self):\n",
    "        return self.length*self.width*self.height\n",
    "        \n",
    "myRectangle = Rectangle(7 , 5)\n",
    "myRectangle.display()\n",
    "print(\"----------------------------------\")\n",
    "myParallelepipede = Parallelepipede(7 , 5 , 2)\n",
    "print(\"Objętość Równoległościanu wynosi: \" , myParallelepipede.volume())"
   ]
  },
  {
   "cell_type": "markdown",
   "metadata": {},
   "source": [
    "## Zadania utrwalające"
   ]
  },
  {
   "cell_type": "markdown",
   "metadata": {},
   "source": [
    "#### Zadanie 1"
   ]
  },
  {
   "cell_type": "markdown",
   "metadata": {},
   "source": [
    "Sprawdź czy cały interfejs klasy bazowej `KontoBankowe` znajduje się i działa w instancji klasy pochodnej `KontoDebetowe`."
   ]
  },
  {
   "cell_type": "markdown",
   "metadata": {},
   "source": [
    "#### Zadanie 2"
   ]
  },
  {
   "cell_type": "markdown",
   "metadata": {},
   "source": [
    "Przetestuj teraz działanie klasy `KontoDebetowe`."
   ]
  },
  {
   "cell_type": "markdown",
   "metadata": {},
   "source": [
    "#### Zadanie 3"
   ]
  },
  {
   "cell_type": "markdown",
   "metadata": {},
   "source": [
    "W klasach `A` i `B` zmień nazwy metod `fa()` i `fb()` na `f()`. Sprawdź jak zachowa się teraz wywołanie `d.f()`, gdzie `d` jest instancją klasy pochodnej.\n",
    "\n",
    "Jak na to zachowanie wpływa zmiana kolejności rodziców przy definicji klasy pochodnej `class Pochodna(tutaj_kolejnosc)`?"
   ]
  },
  {
   "cell_type": "code",
   "execution_count": null,
   "metadata": {},
   "outputs": [],
   "source": []
  }
 ],
 "metadata": {
  "kernelspec": {
   "display_name": "Python 3",
   "language": "python",
   "name": "python3"
  },
  "language_info": {
   "codemirror_mode": {
    "name": "ipython",
    "version": 3
   },
   "file_extension": ".py",
   "mimetype": "text/x-python",
   "name": "python",
   "nbconvert_exporter": "python",
   "pygments_lexer": "ipython3",
   "version": "3.8.3"
  }
 },
 "nbformat": 4,
 "nbformat_minor": 4
}
