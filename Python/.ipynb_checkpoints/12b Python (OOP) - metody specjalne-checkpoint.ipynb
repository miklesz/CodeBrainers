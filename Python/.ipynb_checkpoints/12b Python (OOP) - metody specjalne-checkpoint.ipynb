{
 "cells": [
  {
   "cell_type": "markdown",
   "metadata": {},
   "source": [
    "![](data:image/jpeg;base64,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)"
   ]
  },
  {
   "cell_type": "markdown",
   "metadata": {},
   "source": [
    "# Python (OOP) - metody specjalne"
   ]
  },
  {
   "cell_type": "markdown",
   "metadata": {},
   "source": [
    "_Mikołaj Leszczuk_"
   ]
  },
  {
   "cell_type": "markdown",
   "metadata": {},
   "source": [
    "![](https://amir.rachum.com/images/posts/butwait1.png)"
   ]
  },
  {
   "cell_type": "markdown",
   "metadata": {},
   "source": [
    "## Przeciążanie operatorów"
   ]
  },
  {
   "cell_type": "markdown",
   "metadata": {},
   "source": [
    "**Przeciążanie operatorów** ([ang](https://pl.wikipedia.org/wiki/J%C4%99zyk_angielski). *operator overloading*) lub **przeładowanie operatorów** – polega na tym, że [operator](https://pl.wikipedia.org/wiki/Operator_(programowanie)) może mieć różne implementacje w zależności od typów użytych argumentów (operandów).\n",
    " \n",
    "Przeciążanie operatorów to typowy tzw. [lukier składniowy](https://pl.wikipedia.org/wiki/Lukier_sk%C5%82adniowy) (cecha składni języka, którą można wyeliminować przez proste przekształcenia składniowe, istniejąca jedynie dla wygody programisty). Potencjalnie znacznie poprawia czytelność kodu i umożliwia zdefiniowanie większej części [biblioteki standardowej](https://pl.wikipedia.org/wiki/Biblioteka_programistyczna) na poziomie języka, bez uciekania się do trików. Z drugiej strony, ta technika programistyczna może spowodować powstawanie niejasnych konstrukcji, gdzie operatory wykonują kompletnie różne czynności w zależności od ich operandów.\n",
    "\n",
    "Na przykład w Pythonie, jeżeli:"
   ]
  },
  {
   "cell_type": "code",
   "execution_count": 2,
   "metadata": {},
   "outputs": [],
   "source": [
    "a = 1"
   ]
  },
  {
   "cell_type": "markdown",
   "metadata": {},
   "source": [
    "To wyrażenie:"
   ]
  },
  {
   "cell_type": "code",
   "execution_count": 3,
   "metadata": {},
   "outputs": [
    {
     "data": {
      "text/plain": [
       "2"
      ]
     },
     "execution_count": 3,
     "metadata": {},
     "output_type": "execute_result"
    }
   ],
   "source": [
    "a * 2"
   ]
  },
  {
   "cell_type": "markdown",
   "metadata": {},
   "source": [
    "Normalnie oznacza przemnożenie liczby o `2`.\n",
    "\n",
    "Ale, jeśli:"
   ]
  },
  {
   "cell_type": "code",
   "execution_count": 4,
   "metadata": {},
   "outputs": [],
   "source": [
    "a = 'a'"
   ]
  },
  {
   "cell_type": "markdown",
   "metadata": {},
   "source": [
    "To:"
   ]
  },
  {
   "cell_type": "code",
   "execution_count": 5,
   "metadata": {},
   "outputs": [
    {
     "data": {
      "text/plain": [
       "'aa'"
      ]
     },
     "execution_count": 5,
     "metadata": {},
     "output_type": "execute_result"
    }
   ],
   "source": [
    "a * 2"
   ]
  },
  {
   "cell_type": "markdown",
   "metadata": {},
   "source": [
    "Oznacza to podwojenie `'a'`.\n",
    "\n",
    "A jak interpretować ten fragment gdy `a` jest jeszcze czymś innym?\n",
    "\n",
    "Z tego powodu zalecane jest, aby przeciążać tylko te operatory, których znaczenia łatwo się domyślić, gdyż mają swój odpowiednik w matematyce, fizyce itp."
   ]
  },
  {
   "cell_type": "markdown",
   "metadata": {},
   "source": [
    "## Metody specjalne"
   ]
  },
  {
   "cell_type": "markdown",
   "metadata": {},
   "source": [
    "Klasy umożliwiają przeładowywanie (przeciążanie) operatorów (podobnie jak w C++). Jest to możliwe dzięki specjalnym metodom, które można zaimplementować w klasie. Poniżej przykład klasy `Special`, w której zdefiniowano kilka metod specjalnych."
   ]
  },
  {
   "cell_type": "code",
   "execution_count": 6,
   "metadata": {},
   "outputs": [],
   "source": [
    "class Special:\n",
    "    def __init__(self, *args, **kwargs):\n",
    "        pass\n",
    "        # konstruktor\n",
    "\n",
    "    def __del__(self):\n",
    "        pass\n",
    "        # Destruktor – rzadko wykorzystywany\n",
    "\n",
    "    def __str__(self):\n",
    "        pass\n",
    "        # Reprezentacja znakowa; wywoływana przez print i str\n",
    "\n",
    "    def __repr__(self):\n",
    "        pass\n",
    "        # Reprezentacja znakowa; wywoływana przez repr\n",
    "        # eval(repr(a)) powinno być równe a\n",
    "\n",
    "    def __getitem__(self, i):\n",
    "        pass\n",
    "        # Indeksacja dla obiektu: b = a[i]\n",
    "\n",
    "    def __setitem__(self, i, v):\n",
    "        pass\n",
    "        # Przypisanie z wykorzystaniem indeksacji: a[i] = v\n",
    "\n",
    "    def __len__(self):\n",
    "        pass\n",
    "        # Wywoływane przez len(a);  Funkcja powinna zwrócić\n",
    "        # długość obiektu (o ile ma to uzasadnienie)\n",
    "\n",
    "    def __eq__(self, x):\n",
    "        pass\n",
    "        # Test self == x; zwraca True lub False\n",
    "\n",
    "    def __add__(self, b):\n",
    "        pass\n",
    "        # Definiuje self + b\n",
    "\n",
    "    def __sub__(self, b):\n",
    "        pass\n",
    "        # Definiuje self – b\n",
    "\n",
    "    def __mul__(self, b):\n",
    "        pass\n",
    "        # Definiuje self * b\n",
    "\n",
    "    def __div__(self, b):\n",
    "        pass\n",
    "        # Definiuje self / b\n",
    "\n",
    "    def __pow__(self, b):\n",
    "        pass\n",
    "        # Definiuje self ** b"
   ]
  },
  {
   "cell_type": "markdown",
   "metadata": {},
   "source": [
    "## Lista metod specjalnych (magicznych, dunderów - od ang. *double under*)\n",
    "\n",
    "W poprzednim podrozdziale zostało to już wstępnie przedstawione, tutaj przyjrzymy się metodom specjalnym w Pythonie bardziej szczegółowo.\n",
    "\n",
    "Metody specjalne są metodami, których nazwy zaczynają i kończą się podwójnym podkreśleniem `__`. Najważniejszą, najczęściej wykorzystywaną metodą specjalną jest `__init__`. Metody te są specjalne, ponieważ Python w specjalny sposób je wywołuje. Zestawienie popularnych metod przedstawione jest poniżej.\n",
    "\n",
    "| Metoda      | Opis                                                                                                         |\n",
    "|-------------|--------------------------------------------------------------------------------------------------------------|\n",
    "| `__init__`    | Inicjalizator, uruchamiany od razu po utworzeniu instancji                                                   |\n",
    "| `__del__`     | Finalizator, uruchamiany tuż przed zniszczeniem instancji                                                    |\n",
    "| `__repr__`    | \"Oficjalna\" reprezentacja tekstowa obiektu, format najlepiej `<tutaj wiele jednoznacznych danych>`; zwraca `str` |\n",
    "| `__str__`     | \"Nieoficjalna\" reprezentacja tekstowa, czytelna dla użytkowników; zwraca `str`                                 |\n",
    "| `__bytes__`   | Reprezentacja bajtowa; zwraca `bytes`                                                                          |\n",
    "| `__format__`  | Reprezentacja tekstowa używana przy poleceniach formatujących (`str.format`, `format()`, `f\"\"`); zwraca `str`        |\n",
    "| `__lt__`      | Operator `<` (*lower than*)                                                                                      |\n",
    "| `__le__`      | Operator `<=` (*lower or equal*)                                                                                 |\n",
    "| `__eq__`      | Operator `==` (*equal*)                                                                                          |\n",
    "| `__ne__`      | Operator `!=` (*not equal*)                                                                                      |\n",
    "| `__gt__`      | Operator `>` (*greater than*)                                                                                    |\n",
    "| `__ge__`      | Operator `>=` (*greater or equal*)                                                                               |\n",
    "| `__bool__`    | Metoda używana do sprawdzania wartości prawdy dla instancji, również przy wywołaniu `bool(instancja)`          |\n",
    "| `__abs__`     | Wywoływana przez `abs(instancja)`, służy do obliczania modułu wartości                                         |\n",
    "| `__add__`     | Operator `+` (*add*)                                                                                             |\n",
    "| `__sub__`     | Operator `-` (*subtract*)                                                                                        |\n",
    "| `__mul__`     | Operator `*` (*multiply*)                                                                                        |\n",
    "| `__truediv__` | Operator `/` (*divide*)                                                                                          |\n",
    "| `__neg__`     | Operator negacji, `-instancja`                                                                                 |"
   ]
  },
  {
   "cell_type": "markdown",
   "metadata": {},
   "source": [
    "## Ćwiczenia"
   ]
  },
  {
   "cell_type": "markdown",
   "metadata": {},
   "source": [
    "### Implementacja wektora"
   ]
  },
  {
   "cell_type": "markdown",
   "metadata": {},
   "source": [
    "#### Ćwiczenie"
   ]
  },
  {
   "cell_type": "markdown",
   "metadata": {},
   "source": [
    "Zaimplementuj klasę `Vector`, służącą do reprezentacji [wektorów matematycznych (dwuwymiarowych)](https://pl.wikipedia.org/wiki/Wektor#Podstawowe_w%C5%82asno%C5%9Bci). Klasa przyjmuje dwie wartości: `x` i `y`. \n",
    "\n",
    "Jeśli chodzi o metody, ogranicz się do:\n",
    "\n",
    "* dodawania i odejmowania wektorów (`__add__`, `__sub__` - spróbuj zaimplementować odejmowanie przy pomocy kolejnej metody specjalnej `__neg__`),\n",
    "* moduł (długość; `__abs__`), wykorzystaj funkcję `math.hypot`,\n",
    "* mnożenie przez skalar (`__mul__`),\n",
    "* dzielenie przez skalar (`__truediv__`),\n",
    "* reprezentacja tekstowa (`__repr__` oraz `__str__`).\n",
    "\n",
    "Gdy nie znasz argumentów, które muszą przyjąć metody, posłuż się `dokumentacją`."
   ]
  },
  {
   "cell_type": "markdown",
   "metadata": {},
   "source": [
    "`math.hypot(*coordinates)` zwraca normę euklidesową, `sqrt(suma(x**2 for x in coordinates))`. Jest to długość wektora od początku do punktu określonego przez współrzędne. W przypadku punktu dwuwymiarowego `(x, y)` jest to równoważne obliczeniu przeciwprostokątnej trójkąta prostokątnego za pomocą twierdzenia Pitagorasa, `sqrt(x*x + y*y)`. Uwaga, pewne rzeczy *zmieniono w wersji 3.8*: dodano obsługę punktów n-wymiarowych; wcześniej obsługiwana była tylko wersja dwuwymiarowa."
   ]
  },
  {
   "cell_type": "markdown",
   "metadata": {},
   "source": [
    "Przetestuj działanie swojej klasy:\n",
    "\n",
    "```python\n",
    ">>> v = Vector(4, 7)\n",
    ">>> v + Vector(-4, 7)\n",
    "Vector(0, 14)\n",
    ">>> v * 3\n",
    "Vector(12, 21)\n",
    ">>> abs(v)\n",
    "8.06225774829855\n",
    "```"
   ]
  },
  {
   "cell_type": "markdown",
   "metadata": {},
   "source": [
    "#### Rozwiązanie"
   ]
  },
  {
   "cell_type": "code",
   "execution_count": 7,
   "metadata": {},
   "outputs": [],
   "source": [
    "import math\n",
    "\n",
    "\n",
    "class Vector:\n",
    "    def __init__(self, x, y):\n",
    "        self.x = x\n",
    "        self.y = y\n",
    "\n",
    "    def __neg__(self):\n",
    "        return Vector(-self.x, -self.y)\n",
    "\n",
    "    def __add__(self, v2):\n",
    "        return Vector(self.x + v2.x, self.y + v2.y)\n",
    "\n",
    "    def __sub__(self, v2):\n",
    "        return Vector(self.x - v2.x, self.y - v2.y)\n",
    "        # alternatywnie:\n",
    "        # return self + (-v2)\n",
    "\n",
    "    def __abs__(self):\n",
    "        return math.hypot(self.x, self.y)\n",
    "\n",
    "    def __mul__(self, scalar):\n",
    "        return Vector(scalar * self.x, scalar * self.y)\n",
    "\n",
    "    def __truediv__(self, scalar):\n",
    "        return Vector(self.x / scalar, self.y / scalar)\n",
    "\n",
    "    def __repr__(self):\n",
    "        return \"<Vector({}, {})>\".format(self.x, self.y)\n",
    "\n",
    "    def __str__(self):\n",
    "        return \"Vector({}, {})\".format(self.x, self.y)"
   ]
  },
  {
   "cell_type": "markdown",
   "metadata": {},
   "source": [
    "Testowanie:"
   ]
  },
  {
   "cell_type": "code",
   "execution_count": 8,
   "metadata": {},
   "outputs": [],
   "source": [
    "v1 = Vector(1, 2)"
   ]
  },
  {
   "cell_type": "code",
   "execution_count": 9,
   "metadata": {},
   "outputs": [],
   "source": [
    "v2 = Vector(2, 1)"
   ]
  },
  {
   "cell_type": "code",
   "execution_count": 10,
   "metadata": {},
   "outputs": [
    {
     "name": "stdout",
     "output_type": "stream",
     "text": [
      "Vector(3, 3)\n"
     ]
    }
   ],
   "source": [
    "print(v1 + v2)"
   ]
  },
  {
   "cell_type": "code",
   "execution_count": 11,
   "metadata": {},
   "outputs": [
    {
     "name": "stdout",
     "output_type": "stream",
     "text": [
      "Vector(-1, 1)\n"
     ]
    }
   ],
   "source": [
    "print(v1 - v2)"
   ]
  },
  {
   "cell_type": "code",
   "execution_count": 12,
   "metadata": {},
   "outputs": [
    {
     "name": "stdout",
     "output_type": "stream",
     "text": [
      "2.23606797749979 2.23606797749979\n"
     ]
    }
   ],
   "source": [
    "print(abs(v1), abs(v2))"
   ]
  },
  {
   "cell_type": "code",
   "execution_count": 13,
   "metadata": {},
   "outputs": [
    {
     "name": "stdout",
     "output_type": "stream",
     "text": [
      "Vector(3, 6)\n"
     ]
    }
   ],
   "source": [
    "print(v1 * 3)"
   ]
  },
  {
   "cell_type": "code",
   "execution_count": 14,
   "metadata": {},
   "outputs": [
    {
     "name": "stdout",
     "output_type": "stream",
     "text": [
      "Vector(0.3333333333333333, 0.6666666666666666)\n"
     ]
    }
   ],
   "source": [
    "print(v1 / 3)"
   ]
  },
  {
   "cell_type": "code",
   "execution_count": 15,
   "metadata": {},
   "outputs": [
    {
     "name": "stdout",
     "output_type": "stream",
     "text": [
      "Vector(1, 2)\n"
     ]
    }
   ],
   "source": [
    "print(v1)"
   ]
  },
  {
   "cell_type": "code",
   "execution_count": 16,
   "metadata": {},
   "outputs": [
    {
     "name": "stdout",
     "output_type": "stream",
     "text": [
      "Vector(1, 2)\n"
     ]
    }
   ],
   "source": [
    "print(str(v1))"
   ]
  },
  {
   "cell_type": "code",
   "execution_count": null,
   "metadata": {},
   "outputs": [],
   "source": []
  }
 ],
 "metadata": {
  "kernelspec": {
   "display_name": "Python 3",
   "language": "python",
   "name": "python3"
  },
  "language_info": {
   "codemirror_mode": {
    "name": "ipython",
    "version": 3
   },
   "file_extension": ".py",
   "mimetype": "text/x-python",
   "name": "python",
   "nbconvert_exporter": "python",
   "pygments_lexer": "ipython3",
   "version": "3.8.3"
  }
 },
 "nbformat": 4,
 "nbformat_minor": 4
}
