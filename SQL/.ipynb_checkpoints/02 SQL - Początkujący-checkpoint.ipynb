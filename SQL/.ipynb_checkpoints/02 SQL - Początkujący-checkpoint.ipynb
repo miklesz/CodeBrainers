{
 "cells": [
  {
   "cell_type": "markdown",
   "metadata": {},
   "source": [
    "![](https://media-exp1.licdn.com/dms/image/C4D0BAQHUQWhqV2rl1g/company-logo_200_200/0/1550502396615?e=2159024400&v=beta&t=_mM0D3cbDu8DL3MUvcb75g65zJ-c4Wd0nrguJGoW_gE)"
   ]
  },
  {
   "cell_type": "markdown",
   "metadata": {},
   "source": [
    "# SQL - Początkujący"
   ]
  },
  {
   "cell_type": "markdown",
   "metadata": {},
   "source": [
    "_Mikołaj Leszczuk_"
   ]
  },
  {
   "cell_type": "markdown",
   "metadata": {},
   "source": [
    "* Wybieranie rekordów – operacja `SELECT`\n",
    "* Usuwanie rekordów – operacja `DELETE`\n",
    "* Dodawanie rekordów – operacja `INSERT`\n",
    "* Zmiana rekordów – operacja `UPDATE`\n",
    "* Tworzenie i usuwanie bazy danych\n",
    "* Tworzenie tabeli w bazie danych"
   ]
  },
  {
   "cell_type": "markdown",
   "metadata": {},
   "source": [
    "[00 SQL - Reset.ipynb](00%20SQL%20-%20Reset.ipynb)"
   ]
  },
  {
   "cell_type": "code",
   "execution_count": null,
   "metadata": {},
   "outputs": [],
   "source": [
    "%LOAD CodeBrainers.db rw"
   ]
  },
  {
   "cell_type": "markdown",
   "metadata": {},
   "source": [
    "## Wybieranie rekordów – operacja `SELECT`"
   ]
  },
  {
   "cell_type": "markdown",
   "metadata": {},
   "source": [
    "Zapytanie `SELECT` służy do wybierania z bazy danych żądanych rekordów. Jest ono podstawowym i najbardziej rozbudowanym poleceniem języka SQL gdyż często potrzebujemy zaprezentować dane w odpowiedni sposób oraz pobrać je w zależności od innych parametrów. Zapytanie składa się z:\n",
    "\n",
    "* instrukcji `SELECT` oznaczającej chęć wybrania danych z bazy\n",
    "* nazw kolumn oddzielonych przecinkami znajdujących się w tabeli (`*` - wszystkie)\n",
    "* części `FROM` w której podajemy nazwę tabeli\n",
    "\n",
    "```sqlite\n",
    "SELECT kolumna,kolumna,.. FROM tabela;\n",
    "```\n",
    "\n",
    "```sqlite\n",
    "SELECT * FROM tabela;\n",
    "```\n",
    "\n",
    "Musimy uważać, aby wybierane kolumny istniały w tabeli oraz aby zachować pożądaną kolejność, gdyż kolumny danych będą zwrócone zgodnie z podaną kolejnością."
   ]
  },
  {
   "cell_type": "markdown",
   "metadata": {},
   "source": [
    "#### Przykład\n",
    "\n",
    "**Wybieramy z tabeli Customer wszystkich klientów z ich identyfikatorami, imionami oraz miastami.**\n",
    "\n",
    "Tabela **Customer**:"
   ]
  },
  {
   "cell_type": "code",
   "execution_count": null,
   "metadata": {},
   "outputs": [],
   "source": [
    "SELECT * FROM customer;"
   ]
  },
  {
   "cell_type": "markdown",
   "metadata": {},
   "source": [
    "Zapytanie i wynik zapytania:"
   ]
  },
  {
   "cell_type": "code",
   "execution_count": null,
   "metadata": {},
   "outputs": [],
   "source": [
    "SELECT id,name,city FROM customer;"
   ]
  },
  {
   "cell_type": "markdown",
   "metadata": {},
   "source": [
    "#### Ćwiczenie\n",
    "\n",
    "**Wybierz wszystkie identyfikatory i nazwy produktów**\n",
    "\n",
    "Tabela **Product**:"
   ]
  },
  {
   "cell_type": "code",
   "execution_count": null,
   "metadata": {},
   "outputs": [],
   "source": [
    "SELECT * FROM product;"
   ]
  },
  {
   "cell_type": "markdown",
   "metadata": {},
   "source": [
    "Wpisz zapytanie do bazy!"
   ]
  },
  {
   "cell_type": "markdown",
   "metadata": {},
   "source": [
    "---"
   ]
  },
  {
   "cell_type": "markdown",
   "metadata": {},
   "source": [
    "Zapytanie:"
   ]
  },
  {
   "cell_type": "code",
   "execution_count": null,
   "metadata": {},
   "outputs": [],
   "source": [
    "SELECT id,name FROM product;"
   ]
  },
  {
   "cell_type": "markdown",
   "metadata": {},
   "source": [
    "Zapytanie `SELECT .. ORDER BY` jest używane do posortowania wybranych danych. Sortowanie odbywa się według wartości podanej kolumny (kolumn). Możemy sortować rosnąco co oznaczamy słowem kluczowym `ASC` (ascend) lub malejąco co oznaczamy słowem `DESC` (descend).\n",
    "\n",
    "```sqlite\n",
    "SELECT kolumna,kolumna,.. FROM tabela ORDER BY kolumna DESC;\n",
    "```\n",
    "\n",
    "Sortować można również według kolumn nie wybieranych w danym zapytaniu a tylko znajdujących się w tabeli."
   ]
  },
  {
   "cell_type": "markdown",
   "metadata": {},
   "source": [
    "#### Przykład\n",
    "\n",
    "**Wybieramy z tabeli Product nazwę, cenę i datę dodania produktu posortowane malejąco według daty dodania.**\n",
    "\n",
    "Tabela **Product**:"
   ]
  },
  {
   "cell_type": "code",
   "execution_count": null,
   "metadata": {},
   "outputs": [],
   "source": [
    "SELECT * FROM product;"
   ]
  },
  {
   "cell_type": "markdown",
   "metadata": {},
   "source": [
    "Zapytanie i wynik zapytania:"
   ]
  },
  {
   "cell_type": "code",
   "execution_count": null,
   "metadata": {},
   "outputs": [],
   "source": [
    "SELECT name,price,date FROM product ORDER BY date DESC;"
   ]
  },
  {
   "cell_type": "markdown",
   "metadata": {},
   "source": [
    "Zapytanie `SELECT .. WHERE` stosowane jest gdy chcemy wybrać rekordy z tabeli według podanych kryteriów. Wynikiem będą tylko te, które spełniają warunek (warunki) postawiony zaraz po klauzuli `WHERE`.\n",
    "\n",
    "```sqlite\n",
    "SELECT kolumna,kolumna,.. FROM tabela WHERE kolumna='wartość';\n",
    "```\n",
    "\n",
    "Warunki logiczne mogą składać się z operatorów takich jak:\n",
    "\n",
    "* znak równości (`=`)\n",
    "* negacja (`!=`)\n",
    "* znak mniejszości (`<`) lub (`<=`)\n",
    "* znak większości (`>`) lub (`>=`)"
   ]
  },
  {
   "cell_type": "markdown",
   "metadata": {},
   "source": [
    "#### Przykład\n",
    "\n",
    "**Wybieramy z tabeli Customer imiona klientów którzy mieszkają w Lublinie**\n",
    "\n",
    "Tabela **Customer**:"
   ]
  },
  {
   "cell_type": "code",
   "execution_count": null,
   "metadata": {},
   "outputs": [],
   "source": [
    "SELECT * FROM customer;"
   ]
  },
  {
   "cell_type": "markdown",
   "metadata": {},
   "source": [
    "Zapytanie i wynik zapytania:"
   ]
  },
  {
   "cell_type": "code",
   "execution_count": null,
   "metadata": {},
   "outputs": [],
   "source": [
    "SELECT name FROM customer WHERE city='Lublin';"
   ]
  },
  {
   "cell_type": "markdown",
   "metadata": {},
   "source": [
    "## Usuwanie rekordów – operacja `DELETE`"
   ]
  },
  {
   "cell_type": "markdown",
   "metadata": {},
   "source": [
    "Zapytanie `DELETE` służy do usuwania z bazy danych rekordów spełniających podane warunki. Jest to polecenie bardzo proste i niezbędne podczas pracy z bazą. Zapytanie składa się z:\n",
    "\n",
    "* instrukcji `DELETE` oznaczającej zapytanie usuwające\n",
    "* części `FROM` w której podajemy nazwę tabeli\n",
    "* warunku `WHERE` w którym podajemy kryteria które musi spełniać rekord aby został usunięty\n",
    "\n",
    "```sqlite\n",
    "DELETE FROM tabela WHERE warunek;\n",
    "```\n",
    "\n",
    "Przy usuwaniu rekordów musimy zwrócić szczególną uwagę na klauzulę warunkową. Musi być ona poprawna i uwzględniać tylko te rekordy które faktycznie chcemy usunąć."
   ]
  },
  {
   "cell_type": "markdown",
   "metadata": {},
   "source": [
    "#### Przykład\n",
    "\n",
    "**Usuwamy z tabeli Product wszystkie produkty których są dwie sztuki**\n",
    "\n",
    "Tabela **Product**:"
   ]
  },
  {
   "cell_type": "code",
   "execution_count": null,
   "metadata": {},
   "outputs": [],
   "source": [
    "SELECT * FROM product;"
   ]
  },
  {
   "cell_type": "markdown",
   "metadata": {},
   "source": [
    "Zapytanie:"
   ]
  },
  {
   "cell_type": "code",
   "execution_count": null,
   "metadata": {},
   "outputs": [],
   "source": [
    "SELECT * FROM product WHERE amount='2';"
   ]
  },
  {
   "cell_type": "code",
   "execution_count": null,
   "metadata": {},
   "outputs": [],
   "source": [
    "DELETE FROM product WHERE amount='2';"
   ]
  },
  {
   "cell_type": "markdown",
   "metadata": {},
   "source": [
    "Wynik zapytania:"
   ]
  },
  {
   "cell_type": "code",
   "execution_count": null,
   "metadata": {},
   "outputs": [],
   "source": [
    "SELECT * FROM product;"
   ]
  },
  {
   "cell_type": "markdown",
   "metadata": {},
   "source": [
    "[00 SQL - Reset.ipynb](00%20SQL%20-%20Reset.ipynb)"
   ]
  },
  {
   "cell_type": "code",
   "execution_count": null,
   "metadata": {},
   "outputs": [],
   "source": [
    "%LOAD CodeBrainers.db rw"
   ]
  },
  {
   "cell_type": "markdown",
   "metadata": {},
   "source": [
    "#### Ćwiczenie\n",
    "\n",
    "**Usuń wszystkie produkty których cena jest wyższa niż 20**\n",
    "\n",
    "Tabela **Product**:"
   ]
  },
  {
   "cell_type": "code",
   "execution_count": null,
   "metadata": {},
   "outputs": [],
   "source": [
    "SELECT * FROM product;"
   ]
  },
  {
   "cell_type": "markdown",
   "metadata": {},
   "source": [
    "Wpisz zapytanie do bazy!"
   ]
  },
  {
   "cell_type": "markdown",
   "metadata": {},
   "source": [
    "---"
   ]
  },
  {
   "cell_type": "markdown",
   "metadata": {},
   "source": [
    "Zapytanie:"
   ]
  },
  {
   "cell_type": "code",
   "execution_count": null,
   "metadata": {},
   "outputs": [],
   "source": [
    "DELETE FROM product WHERE price>20;"
   ]
  },
  {
   "cell_type": "markdown",
   "metadata": {},
   "source": [
    "Wynik zapytania:"
   ]
  },
  {
   "cell_type": "code",
   "execution_count": null,
   "metadata": {},
   "outputs": [],
   "source": [
    "SELECT * FROM product;"
   ]
  },
  {
   "cell_type": "markdown",
   "metadata": {},
   "source": [
    "[00 SQL - Reset.ipynb](00%20SQL%20-%20Reset.ipynb)"
   ]
  },
  {
   "cell_type": "code",
   "execution_count": null,
   "metadata": {},
   "outputs": [],
   "source": [
    "%LOAD CodeBrainers.db rw"
   ]
  },
  {
   "cell_type": "markdown",
   "metadata": {},
   "source": [
    "## Dodawanie rekordów – operacja `INSERT`"
   ]
  },
  {
   "cell_type": "markdown",
   "metadata": {},
   "source": [
    "Zapytanie `INSERT` służy do dodawanie do tabeli nowych rekordów zawierających w odpowiednich kolumnach podane wartości. Zapytanie składa się z:\n",
    "\n",
    "* instrukcji `INSERT` która oznacza rozpoczęcie operacji wstawiania\n",
    "* części `INTO` w której podajemy nazwę tabeli\n",
    "* słowa kluczowego `VALUES`\n",
    "* listy wartości odpowiadających kolejnym kolumnom\n",
    "\n",
    "```sqlite\n",
    "INSERT INTO tabela VALUES (wartość,wartość,..);\n",
    "```"
   ]
  },
  {
   "cell_type": "markdown",
   "metadata": {},
   "source": [
    "Możliwa jest również druga forma zapytania `INSERT` w której możemy określić, które kolumny chcemy wypełnić podanymi przez nas wartościami. Wartości przekazane po słowie `VALUES` zostaną wstawione do odpowiadających im kolejno kolumn. Ma ona postać:\n",
    "\n",
    "```sqlite\n",
    "INSERT INTO tabela (kolumna,kolumna,..) VALUES (wartość,wartość,..);\n",
    "```"
   ]
  },
  {
   "cell_type": "markdown",
   "metadata": {},
   "source": [
    "#### Przykład\n",
    "\n",
    "**Dodajemy do tabeli Product nowy przedmiot o nazwie Apaszka, cenie 35, liczba sztuk: 2 oraz dacie dodania: 2011-02-20**\n",
    "\n",
    "Tabela **Product**:"
   ]
  },
  {
   "cell_type": "code",
   "execution_count": null,
   "metadata": {},
   "outputs": [],
   "source": [
    "SELECT * FROM product;"
   ]
  },
  {
   "cell_type": "markdown",
   "metadata": {},
   "source": [
    "Zapytanie:"
   ]
  },
  {
   "cell_type": "code",
   "execution_count": null,
   "metadata": {},
   "outputs": [],
   "source": [
    "INSERT INTO product VALUES (9,'Apaszka',35,2,'2011-02-20');"
   ]
  },
  {
   "cell_type": "markdown",
   "metadata": {},
   "source": [
    "Wynik zapytania:"
   ]
  },
  {
   "cell_type": "code",
   "execution_count": null,
   "metadata": {},
   "outputs": [],
   "source": [
    "SELECT * FROM product;"
   ]
  },
  {
   "cell_type": "markdown",
   "metadata": {},
   "source": [
    "[00 SQL - Reset.ipynb](00%20SQL%20-%20Reset.ipynb)"
   ]
  },
  {
   "cell_type": "code",
   "execution_count": null,
   "metadata": {},
   "outputs": [],
   "source": [
    "%LOAD CodeBrainers.db rw"
   ]
  },
  {
   "cell_type": "markdown",
   "metadata": {},
   "source": [
    "#### Ćwiczenie\n",
    "\n",
    "**Dodaj do tabeli Product nowy przedmiot o nazwie Kapelusz, cenie 60, liczbie sztuk 4 oraz dacie dodania: 2011-02-28**\n",
    "\n",
    "Tabela **Product**:"
   ]
  },
  {
   "cell_type": "code",
   "execution_count": null,
   "metadata": {},
   "outputs": [],
   "source": [
    "SELECT * FROM product;"
   ]
  },
  {
   "cell_type": "markdown",
   "metadata": {},
   "source": [
    "Wpisz zapytanie do bazy!"
   ]
  },
  {
   "cell_type": "markdown",
   "metadata": {},
   "source": [
    "---"
   ]
  },
  {
   "cell_type": "markdown",
   "metadata": {},
   "source": [
    "Zapytanie:"
   ]
  },
  {
   "cell_type": "code",
   "execution_count": null,
   "metadata": {},
   "outputs": [],
   "source": [
    "INSERT INTO product VALUES (9,'Kapelusz',60,4,'2011-02-28');"
   ]
  },
  {
   "cell_type": "markdown",
   "metadata": {},
   "source": [
    "Wynik zapytania:"
   ]
  },
  {
   "cell_type": "code",
   "execution_count": null,
   "metadata": {},
   "outputs": [],
   "source": [
    "SELECT * FROM product;"
   ]
  },
  {
   "cell_type": "markdown",
   "metadata": {},
   "source": [
    "[00 SQL - Reset.ipynb](00%20SQL%20-%20Reset.ipynb)"
   ]
  },
  {
   "cell_type": "code",
   "execution_count": null,
   "metadata": {},
   "outputs": [],
   "source": [
    "%LOAD CodeBrainers.db rw"
   ]
  },
  {
   "cell_type": "markdown",
   "metadata": {},
   "source": [
    "## Zmiana rekordów – operacja `UPDATE`"
   ]
  },
  {
   "cell_type": "markdown",
   "metadata": {},
   "source": [
    "Polecenia `UPDATE` służy do zmiany wartości w istniejących już rekordach w tabeli.\n",
    "\n",
    "Zapytanie składa się z :\n",
    "\n",
    "* instrukcji `UPDATE` która oznacza rozpoczęcie operacji zmiany\n",
    "* nazwy tabeli\n",
    "* słowa kluczowego `SET`\n",
    "* listy z przypisaniem kolumna=wartość w której kolumnom przypisywane są ich nowe wartości\n",
    "* warunku `WHERE` który określa który rekord zostanie zmieniony"
   ]
  },
  {
   "cell_type": "markdown",
   "metadata": {},
   "source": [
    "```sqlite\n",
    "UPDATE tabela SET kolumna1=wartość1,kolumna2=wartość2,..\n",
    "WHERE kolumna=wartość;\n",
    "```"
   ]
  },
  {
   "cell_type": "markdown",
   "metadata": {},
   "source": [
    "## Tworzenie i usuwanie bazy danych"
   ]
  },
  {
   "cell_type": "markdown",
   "metadata": {},
   "source": [
    "**Tworzenie bazy danych** jest to najprostsza czynność przy rozpoczęciu pracy w bazie danych, ale i zarazem podstawowa.\n",
    "\n",
    "Zapytanie składa się tylko z polecenia:\n",
    "\n",
    "```sqlite\n",
    "CREATE DATABASE nazwa bazy;\n",
    "```"
   ]
  },
  {
   "cell_type": "markdown",
   "metadata": {},
   "source": [
    "**Usuwanie bazy danych** jest to czynność równie prosta jak tworzenie bazy, jednak niosąca za sobą poważne konsekwencje w postaci utraty wszystkich danych zawartych w jej tabelach i samych tabel. Służy do tego polecenie `DROP DATABASE`\n",
    "\n",
    "```sqlite\n",
    "DROP DATABASE nazwa bazy;\n",
    "```"
   ]
  },
  {
   "cell_type": "markdown",
   "metadata": {},
   "source": [
    "![](https://niebezpiecznik.pl/wp-content/uploads/2009/10/radar-403x350.jpg)\n",
    "![](https://niebezpiecznik.pl/wp-content/uploads/2009/10/radar2-450x265.jpg)\n",
    "![](https://niebezpiecznik.pl/wp-content/uploads/2009/10/radar3-418x350.jpg)"
   ]
  },
  {
   "cell_type": "markdown",
   "metadata": {},
   "source": [
    "[DROP TABLE users; czyli człowiek-problem na stacjach benzynowych. – Problemy Polskiej Branży IT](https://ppbit.pl/pudelek/drop-table-users-czyli-czlowiek-problem-na-stacjach-benzynowych/)"
   ]
  },
  {
   "cell_type": "markdown",
   "metadata": {},
   "source": [
    "## Tworzenie tabeli w bazie danych"
   ]
  },
  {
   "cell_type": "markdown",
   "metadata": {},
   "source": [
    "**Tworzenie tabeli w bazie danych** jest to trochę bardziej skomplikowana czynność niż tworzenie bazy, gdyż tworząc tabelę musimy stworzyć znajdujące się w niej kolumny i zdefiniować ich właściwości jak np. typ, maksymalna długość wartości i inne.\n",
    "\n",
    "Zapytanie składa się z polecenia:\n",
    "\n",
    "* klauzuli `CREATE TABLE`\n",
    "* nazwy nowej tabeli\n",
    "* listy kolumn wraz z ich szczegółami oddzielonych przecinkiem `nazwa typ(długość)` atrybuty\n",
    "\n",
    "```sqlite\n",
    "CREATE TABLE nazwa tabeli (nazwa kolumny typ(długość) NOT NULL);\n",
    "```"
   ]
  },
  {
   "cell_type": "markdown",
   "metadata": {},
   "source": [
    "Atrybuty to:\n",
    "\n",
    "* `NOT NULL` – pole musi mieć nadaną wartość, jeśli pominięte to może mieć wartość `NULL`\n",
    "* `UNSIGNED` – jeśli pole jest liczbowe to musi mieć wartości nieujemne\n",
    "* `PRIMARY KEY` – kolumna będzie kluczem podstawowym tabeli. Często występuje razem z polem `SQL AUTO INCREMENT`"
   ]
  },
  {
   "cell_type": "markdown",
   "metadata": {},
   "source": [
    "**Usuwanie tabeli**\n",
    "\n",
    "Można całkowicie usunąć tabelę z bazy danych wraz z danymi w niej zawartymi używając polecenia `DROP TABLE` nazwa tabeli\n",
    "\n",
    "```sqlite\n",
    "DROP TABLE nazwa_tabeli;\n",
    "```"
   ]
  },
  {
   "cell_type": "markdown",
   "metadata": {},
   "source": [
    "![](https://niebezpiecznik.pl/wp-content/uploads/2009/10/xkcd-450x147.gif)"
   ]
  },
  {
   "cell_type": "code",
   "execution_count": null,
   "metadata": {},
   "outputs": [],
   "source": [
    "%TABLE_EXISTS Product"
   ]
  },
  {
   "cell_type": "code",
   "execution_count": null,
   "metadata": {},
   "outputs": [],
   "source": [
    "SELECT * FROM product;"
   ]
  },
  {
   "cell_type": "code",
   "execution_count": null,
   "metadata": {},
   "outputs": [],
   "source": [
    "DROP TABLE product;"
   ]
  },
  {
   "cell_type": "code",
   "execution_count": null,
   "metadata": {},
   "outputs": [],
   "source": [
    "%TABLE_EXISTS Product"
   ]
  },
  {
   "cell_type": "code",
   "execution_count": null,
   "metadata": {},
   "outputs": [],
   "source": [
    "SELECT * FROM product;"
   ]
  },
  {
   "cell_type": "markdown",
   "metadata": {},
   "source": [
    "Tabelę można również tylko opróżnić tzn. usunąć wszystkie dane ale pozostawić strukturę całej tabeli. Służą do tego polecenia:\n",
    "\n",
    "* `TRUNCATE TABLE nazwa_tabeli;`\t- w: MySQL\n",
    "* `DELETE FROM nazwa_tabeli;`\t\t- w: SQLite"
   ]
  },
  {
   "cell_type": "code",
   "execution_count": null,
   "metadata": {},
   "outputs": [],
   "source": [
    "%TABLE_EXISTS Customer"
   ]
  },
  {
   "cell_type": "code",
   "execution_count": null,
   "metadata": {},
   "outputs": [],
   "source": [
    "SELECT * FROM customer;"
   ]
  },
  {
   "cell_type": "code",
   "execution_count": null,
   "metadata": {},
   "outputs": [],
   "source": [
    "DELETE FROM customer;"
   ]
  },
  {
   "cell_type": "code",
   "execution_count": null,
   "metadata": {},
   "outputs": [],
   "source": [
    "%TABLE_EXISTS Customer"
   ]
  },
  {
   "cell_type": "code",
   "execution_count": null,
   "metadata": {},
   "outputs": [],
   "source": [
    "SELECT * FROM customer;"
   ]
  },
  {
   "cell_type": "markdown",
   "metadata": {},
   "source": [
    "**Przykład tworzenia tabeli Product**"
   ]
  },
  {
   "cell_type": "code",
   "execution_count": null,
   "metadata": {},
   "outputs": [],
   "source": [
    "CREATE TABLE \"Product\" (\n",
    "\t\"id\"\t\tSMALLINT UNSIGNED IDENTITY(1,1) NOT NULL,\n",
    "\t\"name\"\t\tVARCHAR(50) NOT NULL,\n",
    "\t\"price\"\t\tFLOAT NOT NULL,\n",
    "\t\"amount\"\tTINYINT(2) NOT NULL,\n",
    "\t\"date\"\t\tDATE NOT NULL,\n",
    "\tPRIMARY KEY(\"id\")\n",
    ");"
   ]
  },
  {
   "cell_type": "markdown",
   "metadata": {},
   "source": [
    "| Data type |     Range                                                                                    | Storage |\n",
    "|-----------|----------------------------------------------------------------------------------------------|---------|\n",
    "| `BIGINT`  | -2<sup>63</sup> (-9,223,372,036,854,775,808) to 2<sup>63</sup>-1 (9,223,372,036,854,775,807) | 8 Bytes |\n",
    "| `INT`     | -2<sup>31</sup> (-2,147,483,648)             to 2<sup>31</sup>-1 (2,147,483,647)             | 4 Bytes |\n",
    "| `SMALLINT`| -2<sup>15</sup> (-32,768)                    to 2<sup>15</sup>-1 (32,767)                    | 2 Bytes |\n",
    "| `TINYINT` |  0                                           to 255                                          | 1 Byte  |"
   ]
  },
  {
   "cell_type": "code",
   "execution_count": null,
   "metadata": {},
   "outputs": [],
   "source": [
    "%TABLE_EXISTS Product"
   ]
  },
  {
   "cell_type": "code",
   "execution_count": null,
   "metadata": {},
   "outputs": [],
   "source": [
    "SELECT * FROM product;"
   ]
  },
  {
   "cell_type": "markdown",
   "metadata": {},
   "source": [
    "[00 SQL - Reset.ipynb](00%20SQL%20-%20Reset.ipynb)"
   ]
  },
  {
   "cell_type": "code",
   "execution_count": null,
   "metadata": {},
   "outputs": [],
   "source": [
    "%LOAD CodeBrainers.db rw"
   ]
  },
  {
   "cell_type": "code",
   "execution_count": null,
   "metadata": {},
   "outputs": [],
   "source": []
  }
 ],
 "metadata": {
  "kernelspec": {
   "display_name": "xsqlite",
   "language": "sqlite",
   "name": "xsqlite"
  },
  "language_info": {
   "codemirror_mode": "sql",
   "file_extension": "",
   "mimetype": "",
   "name": "sqlite3",
   "version": "3.30.1"
  }
 },
 "nbformat": 4,
 "nbformat_minor": 4
}
